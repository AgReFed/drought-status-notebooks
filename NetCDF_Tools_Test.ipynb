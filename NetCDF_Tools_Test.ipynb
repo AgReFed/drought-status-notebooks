{
 "cells": [
  {
   "cell_type": "markdown",
   "metadata": {},
   "source": [
    "# Simple Notebook to Read NetCDF Files"
   ]
  },
  {
   "cell_type": "markdown",
   "metadata": {},
   "source": [
    "We first import some useful libraries:\n",
    "* netCDF4: manipulating NetCDF files and data (https://github.com/Unidata/netcdf4-python)\n",
    "* numpy: support for large, multi-dimensional arrays and matrices, along with a large collection of high-level mathematical functions (https://numpy.org/)"
   ]
  },
  {
   "cell_type": "code",
   "execution_count": 6,
   "metadata": {},
   "outputs": [],
   "source": [
    "import netCDF4\n",
    "import numpy"
   ]
  },
  {
   "cell_type": "markdown",
   "metadata": {},
   "source": [
    "Next we specify the file that we want to read, and its path"
   ]
  },
  {
   "cell_type": "code",
   "execution_count": 7,
   "metadata": {},
   "outputs": [],
   "source": [
    "file2read = '/cvmfs/netcdftest.usq/1976.monthly_rain.nc'"
   ]
  },
  {
   "cell_type": "markdown",
   "metadata": {},
   "source": [
    "Now we load the file into a variable named \"nc\" using the NetCDF v4 library"
   ]
  },
  {
   "cell_type": "code",
   "execution_count": 8,
   "metadata": {},
   "outputs": [],
   "source": [
    "nc = netCDF4.Dataset(file2read)"
   ]
  },
  {
   "cell_type": "markdown",
   "metadata": {},
   "source": [
    "Next we print all the variable keys in the file"
   ]
  },
  {
   "cell_type": "code",
   "execution_count": 9,
   "metadata": {},
   "outputs": [
    {
     "name": "stdout",
     "output_type": "stream",
     "text": [
      "odict_keys(['lat', 'lon', 'time', 'monthly_rain', 'crs'])\n"
     ]
    }
   ],
   "source": [
    "print(nc.variables.keys())"
   ]
  },
  {
   "cell_type": "markdown",
   "metadata": {},
   "source": [
    "Now we print all dimensions (one per line)"
   ]
  },
  {
   "cell_type": "code",
   "execution_count": 10,
   "metadata": {},
   "outputs": [
    {
     "name": "stdout",
     "output_type": "stream",
     "text": [
      "('lat', <class 'netCDF4._netCDF4.Dimension'>: name = 'lat', size = 681)\n",
      "('lon', <class 'netCDF4._netCDF4.Dimension'>: name = 'lon', size = 841)\n",
      "('time', <class 'netCDF4._netCDF4.Dimension'> (unlimited): name = 'time', size = 12)\n"
     ]
    }
   ],
   "source": [
    "for dims in nc.dimensions.items():\n",
    "  print(dims)"
   ]
  },
  {
   "cell_type": "markdown",
   "metadata": {},
   "source": [
    "We can also list all attributes"
   ]
  },
  {
   "cell_type": "code",
   "execution_count": 11,
   "metadata": {},
   "outputs": [
    {
     "name": "stdout",
     "output_type": "stream",
     "text": [
      "______________________________________________________\n",
      "long_name -- latitude\n",
      "standard_name -- latitude\n",
      "units -- degrees_north\n",
      "axis -- Y\n",
      "______________________________________________________\n",
      "long_name -- longitude\n",
      "standard_name -- longitude\n",
      "units -- degrees_east\n",
      "axis -- X\n",
      "______________________________________________________\n",
      "calendar -- standard\n",
      "axis -- T\n",
      "units -- days since 1976-01-01\n",
      "______________________________________________________\n",
      "_FillValue -- -32767\n",
      "long_name -- Monthly rainfall\n",
      "units -- mm\n",
      "scale_factor -- 0.1\n",
      "add_offset -- 3276.5\n",
      "valid_min -- -32765\n",
      "valid_max -- 32767\n",
      "______________________________________________________\n",
      "long_name -- Coordinate reference system\n",
      "grid_mapping_name -- latitude_longitude\n",
      "longitude_of_prime_meridian -- 0.0\n",
      "semi_major_axis -- 6378137.0\n",
      "inverse_flattening -- 298.257223563\n"
     ]
    }
   ],
   "source": [
    "for name, variable in nc.variables.items():\n",
    "    print('______________________________________________________')\n",
    "    for attrname in variable.ncattrs():\n",
    "        print(\"{} -- {}\".format(attrname, getattr(variable, attrname)))"
   ]
  },
  {
   "cell_type": "code",
   "execution_count": null,
   "metadata": {},
   "outputs": [],
   "source": []
  }
 ],
 "metadata": {
  "kernelspec": {
   "display_name": "Python 3",
   "language": "python",
   "name": "python3"
  },
  "language_info": {
   "codemirror_mode": {
    "name": "ipython",
    "version": 3
   },
   "file_extension": ".py",
   "mimetype": "text/x-python",
   "name": "python",
   "nbconvert_exporter": "python",
   "pygments_lexer": "ipython3",
   "version": "3.6.9"
  }
 },
 "nbformat": 4,
 "nbformat_minor": 5
}
