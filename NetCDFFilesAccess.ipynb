{
 "cells": [
  {
   "cell_type": "markdown",
   "metadata": {},
   "source": [
    "# Access NetCDF Files"
   ]
  },
  {
   "cell_type": "markdown",
   "metadata": {},
   "source": [
    "This workstation can be used as a client computer to access NetCDF files that are distributed using CernVM-FS."
   ]
  },
  {
   "cell_type": "markdown",
   "metadata": {},
   "source": [
    "The files are available in the `/cvmfs/netcdftest.usq` folder on this computer."
   ]
  },
  {
   "cell_type": "markdown",
   "metadata": {},
   "source": [
    "To automatically mount the remote files on this computer all you need to do is try accessing that folder. A simple folder list command is enough to trigger the auto-mpunt process."
   ]
  },
  {
   "cell_type": "code",
   "execution_count": 1,
   "metadata": {},
   "outputs": [
    {
     "name": "stdout",
     "output_type": "stream",
     "text": [
      "1976.monthly_rain.nc  cdi_1.nc\tcdi_6.nc  exampleFiles\r\n",
      "cdi_12.nc\t      cdi_3.nc\tcdi_9.nc  README.txt\r\n"
     ]
    }
   ],
   "source": [
    "!ls /cvmfs/netcdftest.usq"
   ]
  },
  {
   "cell_type": "markdown",
   "metadata": {},
   "source": [
    "## Seeing Changes You Made on the Server"
   ]
  },
  {
   "cell_type": "markdown",
   "metadata": {},
   "source": [
    "If you have made changes on the server, you need to ask CernVM-FS on this computer to refresh. To do that, you need to run the `cvmfs_config reload` command, with the name of the repository.\n",
    "\n",
    "* The `cvmfs_config` tool is used to manage the CernVM-FS client on this computer.\n",
    "* The `reload` command asks the CernVM-FS client to update its list of files and folders.\n",
    "* The `sudo` command is used before the other commands to run with administrative permissions."
   ]
  },
  {
   "cell_type": "code",
   "execution_count": 2,
   "metadata": {},
   "outputs": [
    {
     "name": "stdout",
     "output_type": "stream",
     "text": [
      "Connecting to CernVM-FS loader... done\n",
      "Entering maintenance mode\n",
      "Draining out kernel caches (up to 60s)\n",
      "Blocking new file system calls\n",
      "Waiting for active file system calls\n",
      "Saving inode tracker\n",
      "Saving negative entry cache\n",
      "Saving chunk tables\n",
      "Saving inode generation\n",
      "Saving open files table\n",
      "Unloading Fuse module\n",
      "Re-Loading Fuse module\n",
      "Restoring inode tracker...  done\n",
      "Restoring negative entry cache...  done\n",
      "Restoring chunk tables...  done\n",
      "Restoring inode generation...  done\n",
      "Restoring open files table... done\n",
      "Restoring open files counter...  done\n",
      "Releasing saved glue buffer\n",
      "Releasing saved negative entry cache\n",
      "Releasing chunk tables\n",
      "Releasing saved inode generation info\n",
      "Releasing saved open files table\n",
      "Releasing open files counter\n",
      "Activating Fuse module\n"
     ]
    }
   ],
   "source": [
    "!sudo cvmfs_config reload netcdftest.usq"
   ]
  },
  {
   "cell_type": "markdown",
   "metadata": {},
   "source": [
    "<div class=\"alert alert-block alert-warning\">\n",
    "<b>IMPORTANT:</b> You must run the `cvmfs_config reload` command before you can see changes you have made on the server. For that reason, it is always suggested to run this command at the beginning of any script, or before running any application or tool that needs to access the latest NetCDF files.\n",
    "</div>"
   ]
  },
  {
   "cell_type": "markdown",
   "metadata": {},
   "source": [
    "<div class=\"alert alert-block alert-info\">\n",
    "<b>NOTE:</b> Changes on the server can take up to 5 minutes to be visible on the client computers. If you ran <b><i>cvmfs_config reload</b></i> and you don't see a change you made on the server, run it again in a few minutes.\n",
    "</div>"
   ]
  },
  {
   "cell_type": "code",
   "execution_count": 3,
   "metadata": {},
   "outputs": [
    {
     "name": "stdout",
     "output_type": "stream",
     "text": [
      "1976.monthly_rain.nc  README.txt  cdi_1.nc  exampleFiles\n"
     ]
    }
   ],
   "source": [
    "!ls /cvmfs/netcdftest.usq"
   ]
  },
  {
   "cell_type": "code",
   "execution_count": 4,
   "metadata": {},
   "outputs": [
    {
     "name": "stderr",
     "output_type": "stream",
     "text": [
      "Bad pipe message: %s [b'\\xe7o\\xe1Q`\\x97\\xcam', b'\\xfbZ\\xc7:\\x1d|\\x8au \\xae_V\\xbdI\\xa2\\x822\\xdc\\xc4\\xb6W\\x7f\\xe5\\x92\\xb3<kR\\xde\\xad&\\xf7\\xce\\xf7G\\xe1\\x94\\xaaMG\\x84\\x00\\x08\\x13\\x02\\x13\\x03\\x13\\x01\\x00\\xff\\x01\\x00\\x00\\x8f\\x00\\x00\\x00\\x0e\\x00\\x0c\\x00\\x00\\t127.0.0.1\\x00\\x0b\\x00\\x04\\x03\\x00\\x01\\x02\\x00\\n\\x00\\x0c\\x00\\n\\x00\\x1d\\x00\\x17\\x00\\x1e\\x00\\x19\\x00\\x18\\x00#\\x00\\x00\\x00\\x16\\x00\\x00\\x00\\x17\\x00\\x00\\x00\\r\\x00\\x1e\\x00\\x1c\\x04\\x03\\x05\\x03\\x06\\x03\\x08\\x07\\x08\\x08\\x08\\t\\x08\\n\\x08\\x0b\\x08\\x04\\x08\\x05\\x08\\x06\\x04\\x01\\x05\\x01\\x06\\x01\\x00+\\x00\\x03\\x02\\x03\\x04\\x00-\\x00\\x02\\x01\\x01\\x003\\x00&\\x00$']\n",
      "Bad pipe message: %s [b\"\\x84Sx\\xe1\\x943\\x1f\\xc4^jT\\xc3\\xdb\\xc5i\\xff\\x19\\xca\\x00\\x00\\xa6\\xc0,\\xc00\\x00\\xa3\\x00\\x9f\\xcc\\xa9\\xcc\\xa8\\xcc\\xaa\\xc0\\xaf\\xc0\\xad\\xc0\\xa3\\xc0\\x9f\\xc0]\\xc0a\\xc0W\\xc0S\\xc0+\\xc0/\\x00\\xa2\\x00\\x9e\\xc0\\xae\\xc0\\xac\\xc0\\xa2\\xc0\\x9e\\xc0\\\\\\xc0`\\xc0V\\xc0R\\xc0$\\xc0(\\x00k\\x00j\\xc0s\\xc0w\\x00\\xc4\\x00\\xc3\\xc0#\\xc0'\\x00g\\x00@\\xc0r\\xc0v\\x00\\xbe\\x00\\xbd\\xc0\\n\\xc0\\x14\\x009\\x008\\x00\\x88\\x00\\x87\\xc0\\t\\xc0\\x13\\x003\\x002\\x00\\x9a\\x00\\x99\\x00E\\x00D\\xc0\\x07\\xc0\\x11\\xc0\\x08\\xc0\\x12\\x00\\x16\\x00\\x13\\x00\\x9d\\xc0\\xa1\\xc0\\x9d\\xc0Q\\x00\\x9c\\xc0\\xa0\\xc0\\x9c\\xc0P\\x00=\\x00\\xc0\\x00<\\x00\\xba\\x005\\x00\\x84\\x00/\\x00\\x96\\x00A\\x00\\x05\\x00\\n\\x00\\xff\\x01\\x00\\x00j\\x00\\x00\\x00\\x0e\\x00\\x0c\\x00\\x00\\t127.0.0.1\\x00\\x0b\\x00\\x04\\x03\\x00\\x01\\x02\\x00\\n\\x00\\x0c\\x00\\n\\x00\\x1d\\x00\\x17\\x00\\x1e\\x00\\x19\\x00\\x18\\x00#\\x00\"]\n",
      "Bad pipe message: %s [b'\\x85\\xce\\xed\\xdd\\xbbtv\\x84X\\x0b\\x1aZ<\\xd3\\xb9v\\x1c\\xa0\\x00\\x00>\\xc0\\x14\\xc0\\n\\x009\\x008\\x007\\x006\\xc0\\x0f\\xc0\\x05\\x005\\xc0\\x13\\xc0\\t\\x003\\x002\\x001\\x000\\xc0\\x0e\\xc0\\x04\\x00/\\x00\\x9a\\x00\\x99\\x00\\x98\\x00\\x97\\x00\\x96\\x00\\x07\\xc0\\x11\\xc0\\x07\\xc0\\x0c\\xc0\\x02\\x00\\x05\\x00\\x04\\x00\\xff\\x02\\x01\\x00\\x00C\\x00\\x00\\x00\\x0e\\x00\\x0c\\x00\\x00\\t127.0.0.1\\x00\\x0b\\x00\\x04\\x03\\x00\\x01\\x02\\x00\\n\\x00\\x1c\\x00\\x1a\\x00\\x17\\x00\\x19\\x00\\x1c\\x00\\x1b\\x00\\x18\\x00\\x1a\\x00\\x16\\x00']\n",
      "Bad pipe message: %s [b'\\r\\x00\\x0b\\x00\\x0c\\x00\\t\\x00\\n\\x00#\\x00\\x00']\n",
      "Bad pipe message: %s [b'\\xce\\xdf\\xf15Y\\xcf\\xff\\xf1\\x07\\x12\\xa2\\x938\\x1a\\x07\\xc8\\xa4\\x9e\\x00\\x00\\xa2\\xc0\\x14\\xc0\\n\\x009\\x008\\x007\\x006\\x00\\x88\\x00\\x87\\x00\\x86\\x00\\x85\\xc0\\x19\\x00']\n",
      "Bad pipe message: %s [b'\\x89\\xc0\\x0f\\xc0\\x05\\x005\\x00\\x84\\xc0\\x13\\xc0\\t\\x003\\x002\\x001\\x000\\x00\\x9a\\x00\\x99\\x00\\x98\\x00\\x97\\x00E\\x00D\\x00C\\x00B\\xc0\\x18\\x004\\x00\\x9b\\x00F\\xc0\\x0e\\xc0\\x04\\x00/\\x00\\x96\\x00A\\x00\\x07']\n",
      "Bad pipe message: %s [b'\\xa6\\x8a\\xc3\\x1bn\\x03\\xa7\\x1bK\"\\\\\\xb9\\xdd\\xee\\x82\\x11\\x8e\\xff\\x00\\x00\\xa2\\xc0\\x14\\xc0\\n\\x009\\x008\\x007\\x006\\x00\\x88\\x00\\x87\\x00\\x86\\x00\\x85\\xc0\\x19\\x00:\\x00\\x89\\xc0\\x0f\\xc0\\x05\\x005\\x00\\x84\\xc0\\x13\\xc0\\t\\x003\\x002\\x001\\x000\\x00\\x9a\\x00\\x99\\x00\\x98\\x00\\x97\\x00E\\x00D\\x00C\\x00B\\xc0\\x18\\x004\\x00\\x9b\\x00F\\xc0\\x0e\\xc0\\x04\\x00/\\x00\\x96\\x00A\\x00\\x07\\xc0\\x11\\xc0\\x07\\xc0\\x16\\x00\\x18\\xc0\\x0c\\xc0\\x02\\x00\\x05\\x00\\x04\\xc0\\x12\\xc0\\x08\\x00\\x16\\x00\\x13\\x00\\x10\\x00\\r\\xc0', b'\\x1b\\xc0\\r\\xc0\\x03\\x00\\n\\x00\\x15\\x00\\x12\\x00\\x0f\\x00\\x0c\\x00\\x1a\\x00\\t\\x00\\x14\\x00']\n",
      "Bad pipe message: %s [b'\\x19\\x00\\x08\\x00\\x06\\x00\\x17\\x00\\x03\\xc0\\x10\\xc0\\x06\\xc0\\x15\\xc0']\n",
      "Bad pipe message: %s [b'\\x01\\x00\\x02\\x00\\x01\\x00\\xff\\x02\\x01\\x00']\n",
      "Bad pipe message: %s [b\"\\x95\\xc4\\x84\\xa7\\xda\\xff\\x88~\\xd9\\xbb\\x1f\\xdb\\x80\\x12\\xc6\\xee\\x88b\\x00\\x00\\xf4\\xc00\\xc0,\\xc0(\\xc0$\\xc0\\x14\\xc0\\n\\x00\\xa5\\x00\\xa3\\x00\\xa1\\x00\\x9f\\x00k\\x00j\\x00i\\x00h\\x009\\x008\\x007\\x006\\x00\\x88\\x00\\x87\\x00\\x86\\x00\\x85\\xc0\\x19\\x00\\xa7\\x00m\\x00:\\x00\\x89\\xc02\\xc0.\\xc0*\\xc0&\\xc0\\x0f\\xc0\\x05\\x00\\x9d\\x00=\\x005\\x00\\x84\\xc0/\\xc0+\\xc0'\\xc0#\\xc0\\x13\\xc0\\t\\x00\\xa4\\x00\\xa2\\x00\\xa0\\x00\\x9e\\x00g\\x00@\\x00?\\x00>\\x003\\x002\\x001\\x000\\x00\\x9a\\x00\\x99\\x00\\x98\\x00\\x97\\x00E\\x00D\\x00C\\x00B\\xc0\\x18\\x00\\xa6\\x00l\\x004\\x00\\x9b\\x00F\\xc01\\xc0-\\xc0)\\xc0%\\xc0\\x0e\\xc0\\x04\\x00\", b'<\\x00/\\x00\\x96\\x00A\\x00\\x07\\xc0\\x11\\xc0\\x07\\xc0\\x16\\x00\\x18\\xc0\\x0c\\xc0\\x02\\x00\\x05\\x00\\x04\\xc0\\x12\\xc0\\x08\\x00\\x16\\x00\\x13\\x00\\x10\\x00\\r\\xc0\\x17\\x00\\x1b\\xc0\\r\\xc0\\x03\\x00\\n\\x00\\x15\\x00\\x12\\x00\\x0f\\x00\\x0c\\x00\\x1a\\x00\\t\\x00\\x14\\x00\\x11\\x00\\x19\\x00\\x08\\x00\\x06\\x00\\x17\\x00\\x03\\xc0\\x10\\xc0\\x06\\xc0\\x15\\xc0\\x0b\\xc0\\x01\\x00;\\x00\\x02\\x00\\x01\\x00\\xff\\x02\\x01\\x00\\x00g\\x00\\x00\\x00\\x0e\\x00\\x0c\\x00\\x00\\t127.0.0.1\\x00\\x0b\\x00\\x04\\x03\\x00\\x01\\x02\\x00\\n\\x00\\x1c\\x00\\x1a\\x00\\x17\\x00\\x19\\x00\\x1c\\x00\\x1b\\x00\\x18\\x00\\x1a\\x00\\x16\\x00\\x0e\\x00\\r\\x00\\x0b\\x00\\x0c\\x00\\t\\x00\\n\\x00']\n",
      "Bad pipe message: %s [b'\\x00\\x00\\r\\x00 \\x00\\x1e\\x06\\x01\\x06\\x02\\x06\\x03\\x05\\x01\\x05\\x02\\x05\\x03\\x04\\x01\\x04\\x02\\x04\\x03\\x03\\x01\\x03\\x02\\x03\\x03\\x02\\x01\\x02']\n",
      "Bad pipe message: %s [b'\\x03']\n",
      "Bad pipe message: %s [b'\\xfa\\xe3\\xf6\\x91\\xbf \\xff^p||\\xb3\\x1c\\xfc\\xf3X\\x08\\xbc \\xff\\x901\\xce\\xd5f\\xc9h\\xe79\\x061\"\\xf9\"Q\\xd7\\xb0\\x1a1WD\\xec\\x89Jq\\x1c,F?\\x86c\\x00\\x08\\x13\\x02\\x13\\x03\\x13\\x01\\x00\\xff\\x01\\x00\\x00\\x8f\\x00\\x00\\x00\\x0e\\x00\\x0c\\x00\\x00\\t127.0.']\n",
      "Bad pipe message: %s [b'1\\x00\\x0b\\x00\\x04\\x03\\x00\\x01\\x02\\x00\\n\\x00\\x0c\\x00\\n\\x00\\x1d\\x00\\x17\\x00\\x1e\\x00\\x19\\x00\\x18\\x00#\\x00\\x00\\x00\\x16\\x00\\x00\\x00\\x17\\x00\\x00\\x00\\r\\x00\\x1e\\x00\\x1c\\x04\\x03\\x05\\x03']\n",
      "Bad pipe message: %s [b'\\x08\\x07\\x08\\x08\\x08', b'\\n\\x08\\x0b\\x08\\x04\\x08\\x05\\x08']\n",
      "Bad pipe message: %s [b'\\x01\\x05\\x01\\x06\\x01']\n",
      "Bad pipe message: %s [b'\\xe6N\\\\\\xd6h\\x9d\\x9b\\x18%\"O\\x1fb1\\x0cV=$\\x00\\x00|\\xc0,\\xc00\\x00\\xa3\\x00\\x9f\\xcc\\xa9\\xcc\\xa8\\xcc\\xaa\\xc0\\xaf\\xc0\\xad\\xc0\\xa3\\xc0\\x9f\\xc0]\\xc0a\\xc0W\\xc0S\\xc0+\\xc0/\\x00\\xa2\\x00\\x9e\\xc0\\xae\\xc0\\xac\\xc0\\xa2\\xc0\\x9e\\xc0\\\\\\xc0`\\xc0V\\xc0R\\xc0$\\xc0(\\x00k\\x00j\\xc0#\\xc0\\'\\x00g\\x00@\\xc0\\n\\xc0\\x14\\x009\\x008\\xc0\\t\\xc0\\x13\\x003\\x002\\x00\\x9d\\xc0\\xa1\\xc0\\x9d\\xc0Q\\x00\\x9c\\xc0\\xa0\\xc0\\x9c\\xc0P\\x00=\\x00<\\x005\\x00/\\x00\\x9a\\x00\\x99\\xc0\\x07\\xc0\\x11\\x00\\x96\\x00\\x05\\x00\\xff\\x01\\x00\\x00j\\x00\\x00\\x00\\x0e\\x00\\x0c\\x00\\x00\\t127.0.0.1\\x00\\x0b\\x00\\x04\\x03\\x00\\x01\\x02\\x00\\n\\x00\\x0c\\x00\\n\\x00\\x1d\\x00\\x17\\x00\\x1e\\x00\\x19\\x00\\x18\\x00#\\x00\\x00\\x00\\x16\\x00\\x00\\x00\\x17\\x00\\x00\\x00\\r\\x000\\x00.\\x04\\x03\\x05\\x03\\x06\\x03\\x08\\x07\\x08\\x08\\x08\\t\\x08\\n\\x08\\x0b\\x08\\x04\\x08\\x05\\x08\\x06\\x04\\x01\\x05\\x01\\x06\\x01\\x03\\x03\\x02\\x03\\x03\\x01\\x02\\x01\\x03', b'\\x02']\n",
      "Bad pipe message: %s [b'\\x05\\x02\\x06']\n",
      "Bad pipe message: %s [b\"\\xf3\\x06~\\xdc\\xe9\\x9e\\xa0\\xbb\\xe2[\\xaf\\rQC\\xe1\\x8b\\xcf\\xca\\x00\\x00\\xa6\\xc0,\\xc00\\x00\\xa3\\x00\\x9f\\xcc\\xa9\\xcc\\xa8\\xcc\\xaa\\xc0\\xaf\\xc0\\xad\\xc0\\xa3\\xc0\\x9f\\xc0]\\xc0a\\xc0W\\xc0S\\xc0+\\xc0/\\x00\\xa2\\x00\\x9e\\xc0\\xae\\xc0\\xac\\xc0\\xa2\\xc0\\x9e\\xc0\\\\\\xc0`\\xc0V\\xc0R\\xc0$\\xc0(\\x00k\\x00j\\xc0s\\xc0w\\x00\\xc4\\x00\\xc3\\xc0#\\xc0'\\x00g\\x00@\\xc0r\\xc0v\\x00\\xbe\\x00\\xbd\\xc0\\n\\xc0\\x14\\x009\\x008\\x00\\x88\\x00\\x87\\xc0\\t\\xc0\\x13\\x003\\x002\\x00\\x9a\\x00\\x99\\x00E\\x00D\\xc0\\x07\\xc0\\x11\\xc0\\x08\\xc0\\x12\\x00\\x16\\x00\\x13\\x00\\x9d\\xc0\\xa1\\xc0\\x9d\\xc0Q\\x00\\x9c\\xc0\\xa0\\xc0\\x9c\\xc0P\\x00=\\x00\\xc0\\x00<\\x00\\xba\\x005\\x00\\x84\\x00/\\x00\\x96\\x00A\\x00\\x05\\x00\\n\\x00\\xff\\x01\\x00\\x00j\\x00\\x00\\x00\\x0e\\x00\\x0c\\x00\\x00\\t127.0.0.1\\x00\\x0b\\x00\\x04\\x03\\x00\\x01\"]\n",
      "Bad pipe message: %s [b'\\n']\n",
      "Bad pipe message: %s [b'\\xd2\\xadA\\x8b\\x8e\\x1bY\\xe3\\xfa\\xee\\xa4d\\xc8\\xc9\\xc4\\x8fq\\xf8\\x00\\x00\\xa2\\xc0\\x14\\xc0\\n\\x009\\x008\\x007\\x006\\x00\\x88\\x00\\x87\\x00\\x86\\x00\\x85\\xc0\\x19\\x00:\\x00\\x89\\xc0\\x0f\\xc0\\x05\\x005\\x00\\x84\\xc0\\x13\\xc0\\t\\x003\\x002\\x001\\x000\\x00\\x9a\\x00\\x99\\x00\\x98\\x00\\x97\\x00E\\x00D\\x00C\\x00B\\xc0\\x18\\x004\\x00\\x9b\\x00F\\xc0\\x0e\\xc0\\x04\\x00/\\x00\\x96\\x00A\\x00\\x07\\xc0\\x11\\xc0\\x07\\xc0\\x16\\x00\\x18\\xc0\\x0c\\xc0\\x02\\x00\\x05\\x00\\x04\\xc0\\x12\\xc0\\x08\\x00\\x16\\x00\\x13\\x00\\x10\\x00\\r\\xc0\\x17\\x00\\x1b\\xc0\\r\\xc0\\x03\\x00\\n\\x00\\x15\\x00\\x12\\x00\\x0f\\x00\\x0c\\x00\\x1a\\x00\\t\\x00\\x14\\x00\\x11\\x00\\x19\\x00\\x08\\x00\\x06\\x00\\x17\\x00\\x03\\xc0\\x10\\xc0\\x06\\xc0\\x15\\xc0\\x0b\\xc0\\x01\\x00\\x02\\x00\\x01\\x00\\xff\\x02\\x01\\x00\\x00C\\x00\\x00\\x00\\x0e\\x00\\x0c\\x00\\x00\\t127.0.0.1\\x00\\x0b\\x00\\x04\\x03\\x00\\x01\\x02\\x00']\n",
      "Bad pipe message: %s [b'\\x1c\\x00\\x1a\\x00\\x17\\x00\\x19\\x00\\x1c']\n",
      "Bad pipe message: %s [b'\\xf7\\x85\\x9fp\\xb9d\\xd0\\xd8\\x9b\\xdd\\xefY\\xd7\\x0e\\x91{n\\x15\\x00\\x00\\xa2\\xc0\\x14\\xc0\\n\\x009\\x008\\x007\\x006\\x00\\x88\\x00\\x87\\x00\\x86\\x00\\x85\\xc0\\x19\\x00:\\x00\\x89\\xc0\\x0f\\xc0\\x05\\x005\\x00\\x84\\xc0\\x13\\xc0\\t\\x003\\x002\\x001\\x000\\x00\\x9a\\x00\\x99\\x00\\x98\\x00\\x97\\x00E\\x00D\\x00C\\x00B\\xc0\\x18\\x004\\x00\\x9b\\x00F\\xc0\\x0e\\xc0\\x04\\x00/\\x00\\x96\\x00A\\x00\\x07\\xc0\\x11\\xc0\\x07\\xc0\\x16\\x00\\x18\\xc0\\x0c\\xc0\\x02\\x00\\x05\\x00\\x04\\xc0\\x12\\xc0\\x08\\x00\\x16\\x00\\x13\\x00\\x10\\x00\\r\\xc0\\x17\\x00\\x1b\\xc0\\r\\xc0\\x03\\x00\\n\\x00\\x15\\x00\\x12\\x00\\x0f\\x00\\x0c\\x00\\x1a\\x00\\t\\x00\\x14\\x00\\x11\\x00\\x19\\x00\\x08\\x00\\x06\\x00\\x17\\x00\\x03\\xc0\\x10\\xc0\\x06\\xc0\\x15\\xc0\\x0b\\xc0', b'']\n",
      "Bad pipe message: %s [b'\\x01']\n",
      "Bad pipe message: %s [b\"&y\\xc6\\x96?\\x1fX\\xf7\\x8e\\xaf\\xc6\\xed\\x10\\xbfq\\xecJL\\x00\\x00\\x86\\xc00\\xc0,\\xc0(\\xc0$\\xc0\\x14\\xc0\\n\\x00\\xa5\\x00\\xa3\\x00\\xa1\\x00\\x9f\\x00k\\x00j\\x00i\\x00h\\x009\\x008\\x007\\x006\\xc02\\xc0.\\xc0*\\xc0&\\xc0\\x0f\\xc0\\x05\\x00\\x9d\\x00=\\x005\\xc0/\\xc0+\\xc0'\\xc0#\\xc0\\x13\\xc0\\t\\x00\\xa4\\x00\\xa2\\x00\\xa0\\x00\\x9e\\x00g\\x00@\\x00?\\x00>\\x003\\x002\\x001\\x000\\xc01\\xc0-\\xc0)\\xc0\"]\n",
      "Bad pipe message: %s [b'\\x0e\\xc0\\x04\\x00\\x9c\\x00<\\x00/\\x00\\x9a\\x00\\x99\\x00\\x98\\x00\\x97\\x00\\x96\\x00\\x07\\xc0\\x11\\xc0\\x07\\xc0\\x0c\\xc0\\x02\\x00\\x05\\x00\\x04\\x00\\xff\\x02']\n",
      "Bad pipe message: %s [b'']\n",
      "Bad pipe message: %s [b'RAdA\\xe3\\xb9Rg\\xa9\\xcfTl\\x1f\\xec\\xd2\\xb8\\x8f+\\x00\\x00\\xf4\\xc00\\xc0,\\xc0(\\xc0$\\xc0\\x14\\xc0\\n\\x00\\xa5\\x00\\xa3\\x00\\xa1\\x00']\n",
      "Bad pipe message: %s [b\"k\\x00j\\x00i\\x00h\\x009\\x008\\x007\\x006\\x00\\x88\\x00\\x87\\x00\\x86\\x00\\x85\\xc0\\x19\\x00\\xa7\\x00m\\x00:\\x00\\x89\\xc02\\xc0.\\xc0*\\xc0&\\xc0\\x0f\\xc0\\x05\\x00\\x9d\\x00=\\x005\\x00\\x84\\xc0/\\xc0+\\xc0'\\xc0#\\xc0\\x13\\xc0\\t\\x00\\xa4\\x00\\xa2\\x00\\xa0\\x00\\x9e\\x00g\\x00@\\x00?\\x00>\\x003\\x002\\x001\\x000\\x00\\x9a\\x00\\x99\\x00\\x98\\x00\\x97\\x00E\\x00D\\x00C\\x00B\\xc0\\x18\\x00\\xa6\\x00l\\x004\\x00\\x9b\\x00F\\xc01\\xc0-\\xc0)\\xc0%\\xc0\\x0e\\xc0\\x04\\x00\\x9c\\x00<\\x00/\\x00\\x96\\x00A\\x00\\x07\\xc0\\x11\\xc0\\x07\\xc0\\x16\\x00\\x18\\xc0\\x0c\\xc0\\x02\\x00\\x05\\x00\\x04\\xc0\"]\n",
      "Bad pipe message: %s [b'\\x08\\x00\\x16\\x00\\x13\\x00\\x10\\x00\\r\\xc0\\x17\\x00\\x1b\\xc0\\r\\xc0\\x03']\n",
      "Bad pipe message: %s [b'\\x14\\xf9\\xba\\xfe\\x8e]\\xddV\\xb8\\xa2\\x07\\xfe\\xbe \\xe6\\xd4r\\xb1 \\x9e\\xb9\\xeb3a/\\xb4\\xb9\\xc1B\\xe6\\x18\\x1eT\\rd\\xe5\\xa7\\xe8#\\x08\\x10\\xcb\\x94\\xb1:\\x83+oigs\\x00\\x08\\x13\\x02\\x13\\x03\\x13\\x01\\x00\\xff\\x01\\x00\\x00\\x8f\\x00\\x00\\x00\\x0e\\x00\\x0c\\x00\\x00\\t127.0.0.1\\x00\\x0b\\x00\\x04\\x03\\x00\\x01\\x02\\x00\\n\\x00\\x0c\\x00\\n\\x00\\x1d\\x00\\x17\\x00\\x1e\\x00\\x19\\x00\\x18\\x00#\\x00\\x00\\x00\\x16\\x00\\x00\\x00\\x17\\x00\\x00\\x00\\r\\x00\\x1e\\x00\\x1c\\x04\\x03\\x05\\x03\\x06\\x03\\x08\\x07\\x08\\x08\\x08\\t\\x08\\n\\x08\\x0b\\x08\\x04\\x08\\x05\\x08\\x06\\x04\\x01\\x05\\x01\\x06\\x01\\x00+\\x00\\x03\\x02\\x03', b'-\\x00\\x02']\n",
      "Bad pipe message: %s [b\"\\xc0&\\x14\\xa8\\xa4\\x97\\xa9%\\xae\\xb8\\xa9\\x91\\xcc\\xe6)WS\\x19\\x00\\x00|\\xc0,\\xc00\\x00\\xa3\\x00\\x9f\\xcc\\xa9\\xcc\\xa8\\xcc\\xaa\\xc0\\xaf\\xc0\\xad\\xc0\\xa3\\xc0\\x9f\\xc0]\\xc0a\\xc0W\\xc0S\\xc0+\\xc0/\\x00\\xa2\\x00\\x9e\\xc0\\xae\\xc0\\xac\\xc0\\xa2\\xc0\\x9e\\xc0\\\\\\xc0`\\xc0V\\xc0R\\xc0$\\xc0(\\x00k\\x00j\\xc0#\\xc0'\\x00g\\x00@\\xc0\\n\\xc0\\x14\\x009\\x008\\xc0\\t\\xc0\\x13\\x003\\x002\\x00\\x9d\\xc0\\xa1\\xc0\\x9d\\xc0Q\\x00\\x9c\\xc0\\xa0\\xc0\\x9c\\xc0P\\x00=\\x00<\\x005\\x00/\\x00\\x9a\\x00\\x99\\xc0\\x07\\xc0\\x11\\x00\\x96\\x00\\x05\\x00\\xff\\x01\\x00\\x00\"]\n",
      "Bad pipe message: %s [b'\\x00\\x00\\x0e\\x00\\x0c\\x00\\x00\\t127.0.0.1\\x00\\x0b\\x00\\x04\\x03\\x00\\x01\\x02\\x00\\n\\x00\\x0c\\x00\\n\\x00\\x1d\\x00\\x17\\x00\\x1e\\x00\\x19\\x00\\x18\\x00#\\x00\\x00\\x00\\x16\\x00\\x00\\x00\\x17\\x00\\x00\\x00\\r\\x000\\x00.\\x04\\x03\\x05\\x03\\x06\\x03\\x08\\x07\\x08\\x08\\x08\\t\\x08\\n\\x08\\x0b\\x08\\x04\\x08\\x05\\x08\\x06\\x04\\x01\\x05\\x01\\x06\\x01\\x03\\x03\\x02\\x03\\x03\\x01\\x02\\x01\\x03\\x02\\x02\\x02\\x04\\x02\\x05\\x02\\x06\\x02']\n",
      "Bad pipe message: %s [b'\\x08\\xed\\x94!wg6\\x81A\\xc4\\xd0\\xc15\\x96=9K\\x10\\x00\\x00\\xa6\\xc0,\\xc00\\x00\\xa3\\x00\\x9f\\xcc\\xa9\\xcc\\xa8\\xcc\\xaa\\xc0\\xaf\\xc0\\xad\\xc0\\xa3\\xc0\\x9f\\xc0]\\xc0a\\xc0W\\xc0S\\xc0+\\xc0/\\x00\\xa2\\x00\\x9e\\xc0\\xae\\xc0\\xac\\xc0\\xa2\\xc0\\x9e\\xc0\\\\\\xc0`\\xc0V\\xc0R\\xc0$\\xc0(\\x00k\\x00j\\xc0s\\xc0w\\x00\\xc4']\n",
      "Bad pipe message: %s [b'\\x80\\xaa.H\\x05\\xb5h\\xc1H\\xcdu5\\xa1\\xd7E\\xe71\\x89\\x00\\x00\\xa2\\xc0\\x14\\xc0\\n\\x009\\x008\\x007\\x006\\x00\\x88\\x00\\x87\\x00\\x86\\x00\\x85\\xc0\\x19\\x00:\\x00\\x89\\xc0\\x0f\\xc0\\x05\\x005\\x00\\x84\\xc0\\x13\\xc0\\t\\x003\\x002\\x001\\x000\\x00\\x9a\\x00\\x99\\x00\\x98\\x00\\x97\\x00E\\x00D\\x00C\\x00B\\xc0\\x18\\x004\\x00\\x9b\\x00F\\xc0\\x0e\\xc0\\x04\\x00/\\x00\\x96\\x00A\\x00\\x07\\xc0\\x11\\xc0\\x07\\xc0\\x16\\x00\\x18\\xc0\\x0c\\xc0\\x02\\x00\\x05\\x00\\x04\\xc0\\x12\\xc0\\x08\\x00\\x16\\x00\\x13\\x00\\x10']\n",
      "Bad pipe message: %s [b'\\xe0\\xb0k\\xbf\\x8cLa+\\xbf\\xe5 \\x08l\\x15S\\x0bQ\\xda\\x00\\x00\\x86\\xc00\\xc0,\\xc0(\\xc0$\\xc0\\x14\\xc0']\n",
      "Bad pipe message: %s [b'\\xa5\\x00\\xa3\\x00\\xa1\\x00\\x9f\\x00k']\n",
      "Bad pipe message: %s [b'\\x91,\\x19M>f\\x9fA-skiNK\\xa6\\xa0e$\\x00\\x00\\xf4\\xc00\\xc0,\\xc0(\\xc0$\\xc0\\x14\\xc0\\n\\x00\\xa5\\x00\\xa3\\x00\\xa1\\x00\\x9f\\x00k\\x00j\\x00i\\x00h']\n",
      "Bad pipe message: %s [b'\\xfe\\xc9\\x98\\x9c2|8\\x8c7\\xdd\\x9eI\\xa1\\xeb?h:\\x12 \\xeb|Oe;W8\\xdby\\xb8\\x17-\\xa3\\x17$\\x9f\\x1a\\xe3\\xa4^)\\x075\\xd4pV\\xbe\\xa40\\x1a\\xb9{\\x00\\x08\\x13\\x02\\x13\\x03\\x13\\x01\\x00\\xff\\x01\\x00\\x00\\x8f\\x00\\x00\\x00\\x0e\\x00\\x0c\\x00\\x00\\t127.0.0.1\\x00\\x0b\\x00\\x04\\x03\\x00\\x01\\x02\\x00\\n\\x00\\x0c\\x00\\n\\x00\\x1d\\x00\\x17\\x00\\x1e\\x00\\x19\\x00\\x18\\x00#\\x00\\x00\\x00\\x16\\x00\\x00\\x00\\x17\\x00\\x00\\x00\\r\\x00\\x1e\\x00\\x1c\\x04\\x03\\x05\\x03\\x06\\x03\\x08\\x07\\x08\\x08\\x08\\t\\x08\\n\\x08\\x0b\\x08\\x04\\x08\\x05\\x08\\x06\\x04\\x01\\x05\\x01\\x06\\x01\\x00+\\x00\\x03\\x02\\x03\\x04\\x00-\\x00\\x02\\x01\\x01\\x003\\x00&\\x00$\\x00\\x1d\\x00 \\x87\\xb0\\xd2\\n\\x89\\x00{]\\xe6j\\xd8\\xfd\\x8e\\xd4\\xc0\\xddZ\\xf6\\x85\\xe82\\x9f\\x89\\xbd']\n",
      "Bad pipe message: %s [b\"!\\xb6\\xee\\x14\\xcd\\xaa\\xca\\xa4\\x81\\xf7\\x95!fb01\\x82\\x94\\x00\\x00|\\xc0,\\xc00\\x00\\xa3\\x00\\x9f\\xcc\\xa9\\xcc\\xa8\\xcc\\xaa\\xc0\\xaf\\xc0\\xad\\xc0\\xa3\\xc0\\x9f\\xc0]\\xc0a\\xc0W\\xc0S\\xc0+\\xc0/\\x00\\xa2\\x00\\x9e\\xc0\\xae\\xc0\\xac\\xc0\\xa2\\xc0\\x9e\\xc0\\\\\\xc0`\\xc0V\\xc0R\\xc0$\\xc0(\\x00k\\x00j\\xc0#\\xc0'\\x00g\\x00@\\xc0\\n\\xc0\\x14\\x009\\x008\\xc0\\t\\xc0\\x13\\x003\\x002\\x00\\x9d\\xc0\\xa1\\xc0\\x9d\\xc0Q\\x00\\x9c\\xc0\\xa0\\xc0\\x9c\\xc0P\\x00=\\x00<\\x005\\x00/\\x00\\x9a\\x00\\x99\\xc0\\x07\\xc0\\x11\\x00\\x96\\x00\\x05\\x00\\xff\\x01\\x00\\x00j\\x00\\x00\\x00\\x0e\\x00\\x0c\\x00\\x00\\t127.0.0.1\\x00\\x0b\\x00\\x04\\x03\\x00\\x01\\x02\\x00\\n\\x00\\x0c\\x00\\n\\x00\\x1d\\x00\\x17\\x00\\x1e\\x00\\x19\\x00\\x18\\x00#\\x00\\x00\\x00\\x16\\x00\\x00\\x00\\x17\\x00\\x00\\x00\\r\\x000\\x00.\\x04\\x03\\x05\\x03\\x06\"]\n",
      "Bad pipe message: %s [b'\\x07\\x08']\n",
      "Bad pipe message: %s [b'\\t\\x08\\n\\x08\\x0b\\x08\\x04']\n",
      "Bad pipe message: %s [b'\\x08\\x06\\x04\\x01\\x05\\x01\\x06', b'', b'\\x03\\x03']\n",
      "Bad pipe message: %s [b'']\n",
      "Bad pipe message: %s [b'', b'\\x02']\n",
      "Bad pipe message: %s [b'\\x05\\x02\\x06']\n",
      "Bad pipe message: %s [b'\\x9f\\xd1a\\xd9Mr\\x99H\\x19\\x9d\\xfb\\xf6\\xd6\\xb7Q\\xf7;:\\x00\\x00\\xa2\\xc0\\x14\\xc0\\n\\x009\\x008\\x007\\x006\\x00\\x88\\x00\\x87\\x00\\x86\\x00\\x85\\xc0\\x19\\x00:\\x00\\x89\\xc0\\x0f\\xc0\\x05\\x005\\x00\\x84\\xc0\\x13\\xc0\\t\\x003\\x002\\x001\\x000\\x00\\x9a\\x00\\x99\\x00\\x98\\x00\\x97\\x00E\\x00D\\x00C\\x00B\\xc0\\x18\\x004\\x00\\x9b\\x00F\\xc0\\x0e\\xc0\\x04\\x00/\\x00\\x96\\x00A\\x00\\x07\\xc0\\x11\\xc0\\x07\\xc0\\x16\\x00\\x18\\xc0\\x0c\\xc0\\x02\\x00\\x05\\x00\\x04\\xc0\\x12\\xc0\\x08\\x00\\x16\\x00\\x13\\x00\\x10\\x00\\r\\xc0\\x17\\x00\\x1b\\xc0\\r\\xc0\\x03\\x00\\n\\x00\\x15\\x00\\x12\\x00\\x0f\\x00\\x0c\\x00\\x1a\\x00\\t\\x00\\x14\\x00\\x11\\x00\\x19\\x00\\x08\\x00\\x06\\x00\\x17\\x00\\x03\\xc0\\x10\\xc0\\x06\\xc0\\x15\\xc0\\x0b\\xc0\\x01\\x00\\x02\\x00\\x01\\x00\\xff\\x02\\x01\\x00\\x00C\\x00\\x00\\x00\\x0e\\x00\\x0c\\x00\\x00\\t127.0.0.1\\x00\\x0b\\x00\\x04\\x03\\x00\\x01\\x02\\x00\\n\\x00\\x1c\\x00\\x1a\\x00\\x17\\x00\\x19\\x00\\x1c\\x00\\x1b\\x00\\x18\\x00\\x1a\\x00\\x16\\x00\\x0e\\x00\\r\\x00\\x0b\\x00\\x0c']\n",
      "Bad pipe message: %s [b'\\xd1\\xa8a\\xef\\xecT)\\tG\\x9f\\x90\\xe5\\xa0\\x19\\x87\\xa0\\xe1\\x9f\\x00\\x00']\n",
      "Bad pipe message: %s [b'\\x14\\xc0\\n\\x009\\x008\\x007\\x006\\xc0\\x0f\\xc0\\x05\\x005\\xc0\\x13\\xc0\\t\\x003\\x002\\x001\\x000\\xc0\\x0e\\xc0\\x04\\x00/\\x00\\x9a\\x00\\x99\\x00\\x98\\x00\\x97\\x00\\x96\\x00\\x07\\xc0\\x11\\xc0\\x07\\xc0\\x0c\\xc0\\x02\\x00\\x05\\x00\\x04\\x00\\xff']\n",
      "Bad pipe message: %s [b'R\\xd4\\x92\\xc0', b'\\xb5`\\x83\\xcb\\xbe\\xabq\"*$\\x06/\\x00\\x00\\xa2\\xc0\\x14\\xc0\\n\\x009\\x008\\x007\\x006\\x00\\x88\\x00\\x87\\x00\\x86\\x00\\x85\\xc0\\x19\\x00:\\x00\\x89\\xc0\\x0f\\xc0\\x05\\x005\\x00\\x84\\xc0\\x13\\xc0\\t\\x003\\x002\\x001\\x000\\x00\\x9a\\x00\\x99\\x00\\x98\\x00\\x97\\x00E\\x00D\\x00C\\x00B\\xc0\\x18\\x004\\x00\\x9b\\x00F\\xc0\\x0e\\xc0\\x04\\x00/\\x00\\x96\\x00A\\x00\\x07\\xc0\\x11\\xc0\\x07\\xc0\\x16\\x00\\x18\\xc0\\x0c\\xc0\\x02\\x00\\x05\\x00\\x04\\xc0\\x12\\xc0\\x08\\x00\\x16\\x00\\x13\\x00\\x10\\x00\\r\\xc0\\x17\\x00\\x1b\\xc0\\r\\xc0\\x03\\x00\\n\\x00\\x15\\x00\\x12\\x00\\x0f\\x00\\x0c\\x00\\x1a\\x00\\t\\x00\\x14\\x00\\x11\\x00\\x19\\x00\\x08\\x00\\x06\\x00\\x17']\n",
      "Bad pipe message: %s [b'm\\xe6\\xd9\\xf4Sk\\x18ZHH\\xde\\xe1:5\\xdc8\\xfaf\\x00\\x00>\\xc0\\x14\\xc0\\n\\x009\\x008\\x007\\x006\\xc0\\x0f\\xc0\\x05\\x005\\xc0\\x13\\xc0\\t\\x003\\x002\\x001\\x000\\xc0\\x0e\\xc0\\x04\\x00/\\x00\\x9a\\x00\\x99\\x00\\x98\\x00\\x97\\x00\\x96\\x00\\x07\\xc0\\x11\\xc0\\x07\\xc0\\x0c\\xc0\\x02\\x00\\x05\\x00\\x04\\x00\\xff\\x02\\x01\\x00\\x15\\x03']\n",
      "Bad pipe message: %s [b'v\\x1c\\x1e]?W\\xcd\\xce\\x183\\xac\\xa5V\\x08\\xb1\\xe9~#\\x00\\x00\\xa2\\xc0\\x14\\xc0\\n\\x009\\x008\\x007\\x006\\x00\\x88\\x00\\x87\\x00\\x86\\x00\\x85\\xc0\\x19\\x00:\\x00\\x89\\xc0\\x0f\\xc0\\x05\\x005\\x00\\x84\\xc0\\x13\\xc0\\t\\x003\\x002\\x001\\x000\\x00\\x9a\\x00\\x99\\x00\\x98\\x00\\x97\\x00E\\x00D\\x00C\\x00B\\xc0\\x18\\x004\\x00\\x9b\\x00F\\xc0\\x0e\\xc0\\x04\\x00/\\x00\\x96\\x00A\\x00\\x07\\xc0\\x11\\xc0\\x07\\xc0\\x16\\x00\\x18\\xc0\\x0c\\xc0\\x02\\x00\\x05\\x00\\x04\\xc0\\x12\\xc0\\x08\\x00\\x16\\x00\\x13\\x00\\x10\\x00\\r\\xc0\\x17\\x00\\x1b\\xc0\\r\\xc0\\x03\\x00\\n\\x00\\x15\\x00\\x12\\x00\\x0f\\x00\\x0c\\x00\\x1a\\x00\\t\\x00\\x14\\x00\\x11\\x00\\x19\\x00\\x08\\x00\\x06\\x00\\x17\\x00\\x03\\xc0\\x10\\xc0\\x06']\n",
      "Bad pipe message: %s [b\">\\xda\\x8d<U\\xcdx\\x9c\\xd4\\xaaZ\\x8aa\\x86@\\xd8\\xdd\\xa6\\x00\\x00|\\xc0,\\xc00\\x00\\xa3\\x00\\x9f\\xcc\\xa9\\xcc\\xa8\\xcc\\xaa\\xc0\\xaf\\xc0\\xad\\xc0\\xa3\\xc0\\x9f\\xc0]\\xc0a\\xc0W\\xc0S\\xc0+\\xc0/\\x00\\xa2\\x00\\x9e\\xc0\\xae\\xc0\\xac\\xc0\\xa2\\xc0\\x9e\\xc0\\\\\\xc0`\\xc0V\\xc0R\\xc0$\\xc0(\\x00k\\x00j\\xc0#\\xc0'\\x00g\\x00@\\xc0\\n\\xc0\\x14\\x009\\x008\\xc0\\t\\xc0\\x13\\x003\\x002\\x00\\x9d\\xc0\\xa1\\xc0\\x9d\\xc0Q\\x00\\x9c\\xc0\\xa0\\xc0\\x9c\\xc0P\\x00=\\x00<\\x005\\x00/\\x00\\x9a\\x00\\x99\\xc0\\x07\\xc0\\x11\\x00\\x96\\x00\\x05\\x00\\xff\\x01\\x00\\x00j\\x00\\x00\\x00\\x0e\\x00\\x0c\\x00\\x00\\t127.0.0.1\\x00\"]\n",
      "Bad pipe message: %s [b'\\x04\\x03\\x00\\x01\\x02\\x00\\n\\x00\\x0c\\x00']\n",
      "Bad pipe message: %s [b'\\x1d\\x00\\x17\\x00\\x1e\\x00\\x19\\x00\\x18']\n",
      "Bad pipe message: %s [b'g\\xfe\\x0c\\x9f\\n}\\xffe/\\x144\\xdd\\x90a\\xb0\\xee\\x1e^\\x00\\x00\\xa2\\xc0\\x14\\xc0\\n\\x009\\x008\\x007\\x006\\x00\\x88\\x00\\x87\\x00\\x86\\x00\\x85\\xc0\\x19\\x00:\\x00\\x89\\xc0\\x0f\\xc0\\x05\\x005\\x00\\x84\\xc0\\x13\\xc0\\t\\x003\\x002\\x001\\x000\\x00\\x9a\\x00\\x99\\x00\\x98\\x00\\x97\\x00E\\x00D\\x00C\\x00B\\xc0\\x18\\x004\\x00\\x9b\\x00F\\xc0\\x0e\\xc0\\x04\\x00/\\x00\\x96\\x00A\\x00\\x07\\xc0\\x11\\xc0\\x07\\xc0\\x16\\x00\\x18\\xc0\\x0c\\xc0\\x02\\x00\\x05\\x00\\x04\\xc0\\x12\\xc0\\x08\\x00\\x16\\x00\\x13\\x00\\x10\\x00\\r\\xc0\\x17\\x00\\x1b\\xc0\\r\\xc0\\x03\\x00\\n\\x00\\x15\\x00\\x12\\x00\\x0f\\x00\\x0c\\x00\\x1a\\x00\\t\\x00\\x14\\x00\\x11\\x00\\x19\\x00\\x08\\x00\\x06\\x00\\x17\\x00\\x03\\xc0\\x10\\xc0\\x06\\xc0\\x15\\xc0\\x0b\\xc0\\x01\\x00\\x02\\x00\\x01\\x00\\xff\\x02\\x01\\x00\\x00C\\x00\\x00\\x00\\x0e\\x00\\x0c\\x00\\x00\\t127.0.0.1\\x00\\x0b\\x00\\x04\\x03\\x00\\x01\\x02\\x00\\n\\x00\\x1c\\x00\\x1a\\x00\\x17\\x00\\x19\\x00\\x1c\\x00\\x1b\\x00\\x18\\x00\\x1a\\x00\\x16\\x00\\x0e\\x00\\r\\x00\\x0b\\x00\\x0c\\x00\\t']\n",
      "Bad pipe message: %s [b'\\xcbW8h6\\xc2\\xdb\\xaf']\n",
      "Bad pipe message: %s [b\"mDr\\xed\\xc6'c\\x07\\xa9$@\\xae)Y\\xc7\\xd2\\xa9,\\x00\\x00\\x86\\xc00\\xc0,\\xc0(\\xc0$\\xc0\\x14\\xc0\\n\\x00\\xa5\\x00\\xa3\\x00\\xa1\\x00\\x9f\\x00k\\x00j\\x00i\\x00h\\x009\\x008\\x007\\x006\\xc02\\xc0.\\xc0*\\xc0&\\xc0\\x0f\\xc0\\x05\\x00\\x9d\\x00=\\x005\\xc0/\\xc0+\\xc0'\\xc0#\\xc0\\x13\\xc0\\t\\x00\\xa4\\x00\\xa2\\x00\\xa0\\x00\\x9e\\x00g\\x00@\\x00?\\x00\"]\n",
      "Bad pipe message: %s [b'3\\x002\\x001\\x000\\xc01\\xc0-\\xc0)\\xc0%\\xc0\\x0e\\xc0\\x04\\x00\\x9c\\x00<\\x00/\\x00\\x9a\\x00\\x99\\x00\\x98\\x00\\x97\\x00\\x96\\x00\\x07\\xc0\\x11\\xc0\\x07\\xc0\\x0c\\xc0\\x02\\x00\\x05\\x00\\x04\\x00\\xff\\x02\\x01\\x00\\x00g\\x00\\x00\\x00\\x0e\\x00']\n",
      "Bad pipe message: %s [b'\\x00\\t127.0.0.1']\n",
      "Bad pipe message: %s [b\"%\\x81\\x9c\\xf94K^,'\\x10\\xb2\\xbd\\x96\\xcb\\x9a\\x8e\\x8c\\xad \\xc0\\xd8\\x02\\x94\\x90\\xf5\\xf0B\\xef\\xa0\\xee\\xe0k\\xef\\xb8\\xe9A\\xe1\\xf2\\xd3\\x8a\\x8bA2[\\x87s\\xf3[\\xa3\\xe7\\x19\\x00\\x08\\x13\\x02\\x13\\x03\\x13\\x01\\x00\\xff\\x01\\x00\\x00\\x8f\\x00\\x00\\x00\\x0e\\x00\\x0c\\x00\\x00\\t127.0.0.1\\x00\\x0b\\x00\\x04\\x03\\x00\\x01\\x02\\x00\\n\\x00\\x0c\\x00\\n\\x00\\x1d\\x00\\x17\\x00\\x1e\\x00\\x19\\x00\\x18\\x00#\\x00\\x00\\x00\\x16\\x00\\x00\\x00\\x17\\x00\\x00\\x00\\r\\x00\\x1e\\x00\\x1c\\x04\\x03\\x05\\x03\\x06\\x03\\x08\\x07\\x08\\x08\\x08\\t\\x08\\n\\x08\\x0b\\x08\\x04\\x08\\x05\\x08\\x06\\x04\\x01\\x05\\x01\\x06\\x01\\x00+\\x00\\x03\\x02\\x03\\x04\\x00-\\x00\\x02\\x01\\x01\"]\n",
      "Bad pipe message: %s [b\"^\\x00\\x84\\xef\\xb0\\xa1\\xe0\\xbe\\xd6\\x8d\\xf09\\xd3\\n\\xf5\\xe9\\xca\\xbd\\x00\\x00\\xa6\\xc0,\\xc00\\x00\\xa3\\x00\\x9f\\xcc\\xa9\\xcc\\xa8\\xcc\\xaa\\xc0\\xaf\\xc0\\xad\\xc0\\xa3\\xc0\\x9f\\xc0]\\xc0a\\xc0W\\xc0S\\xc0+\\xc0/\\x00\\xa2\\x00\\x9e\\xc0\\xae\\xc0\\xac\\xc0\\xa2\\xc0\\x9e\\xc0\\\\\\xc0`\\xc0V\\xc0R\\xc0$\\xc0(\\x00k\\x00j\\xc0s\\xc0w\\x00\\xc4\\x00\\xc3\\xc0#\\xc0'\\x00g\\x00@\\xc0r\\xc0v\\x00\\xbe\\x00\\xbd\\xc0\\n\\xc0\\x14\\x009\\x008\\x00\\x88\\x00\\x87\\xc0\\t\\xc0\\x13\\x003\\x002\\x00\\x9a\\x00\\x99\\x00E\\x00D\\xc0\\x07\\xc0\\x11\\xc0\\x08\\xc0\\x12\\x00\\x16\\x00\\x13\\x00\\x9d\\xc0\\xa1\\xc0\\x9d\\xc0Q\\x00\\x9c\\xc0\\xa0\\xc0\\x9c\\xc0P\\x00=\\x00\\xc0\\x00<\\x00\\xba\\x00\", b'\\x84\\x00/\\x00\\x96\\x00A\\x00\\x05\\x00\\n\\x00\\xff\\x01\\x00\\x00j\\x00\\x00\\x00\\x0e\\x00\\x0c\\x00\\x00\\t127.0.0.1\\x00\\x0b\\x00\\x04\\x03\\x00\\x01\\x02\\x00\\n\\x00\\x0c\\x00\\n\\x00\\x1d\\x00']\n",
      "Bad pipe message: %s [b'\\x1e\\x00\\x19\\x00\\x18\\x00#\\x00\\x00\\x00\\x16\\x00\\x00\\x00\\x17\\x00\\x00\\x00\\r\\x000\\x00']\n",
      "Bad pipe message: %s [b'\\x03\\x05\\x03\\x06\\x03\\x08\\x07\\x08\\x08\\x08\\t\\x08\\n\\x08\\x0b\\x08\\x04\\x08\\x05\\x08\\x06\\x04\\x01\\x05\\x01\\x06\\x01\\x03\\x03\\x02\\x03\\x03\\x01\\x02\\x01\\x03\\x02\\x02\\x02\\x04\\x02\\x05\\x02\\x06\\x02']\n",
      "Bad pipe message: %s [b'.\\x80\\x1f\\x8a\\xa0\\x86\\x0e\\x13j\\x9b\\xa1\\x91x0\\x8bU\\xa4\\xa3\\x00\\x00>\\xc0\\x14\\xc0\\n\\x009\\x008\\x007\\x006\\xc0\\x0f\\xc0\\x05\\x005\\xc0\\x13\\xc0\\t\\x003\\x002\\x001\\x000\\xc0\\x0e\\xc0\\x04\\x00/\\x00\\x9a\\x00\\x99\\x00\\x98\\x00\\x97\\x00\\x96\\x00\\x07\\xc0\\x11\\xc0\\x07\\xc0\\x0c\\xc0\\x02\\x00\\x05\\x00\\x04\\x00\\xff\\x02\\x01\\x00\\x00C\\x00\\x00\\x00\\x0e\\x00\\x0c\\x00\\x00\\t127.0.0.1\\x00\\x0b\\x00\\x04\\x03\\x00\\x01\\x02\\x00\\n\\x00\\x1c\\x00\\x1a\\x00\\x17\\x00\\x19\\x00\\x1c\\x00\\x1b\\x00\\x18\\x00\\x1a\\x00\\x16\\x00\\x0e\\x00\\r\\x00\\x0b\\x00\\x0c\\x00\\t\\x00\\n\\x00#\\x00\\x00']\n",
      "Bad pipe message: %s [b'\\x143\\xcc\\xcc%\\xe7M\\xa8\\xb0^\\xd0\\x14\\xb2\\xba\\x9d\\x97\\x10\\xbc\\x00\\x00>\\xc0\\x14\\xc0\\n\\x009\\x008\\x007\\x006\\xc0\\x0f\\xc0\\x05\\x005\\xc0\\x13\\xc0\\t\\x003\\x002\\x001']\n",
      "Bad pipe message: %s [b\"\\xbb\\x06kJO\\x16\\xda+t*\\xe16HR~\\x12?\\x16\\x00\\x00\\xf4\\xc00\\xc0,\\xc0(\\xc0$\\xc0\\x14\\xc0\\n\\x00\\xa5\\x00\\xa3\\x00\\xa1\\x00\\x9f\\x00k\\x00j\\x00i\\x00h\\x009\\x008\\x007\\x006\\x00\\x88\\x00\\x87\\x00\\x86\\x00\\x85\\xc0\\x19\\x00\\xa7\\x00m\\x00:\\x00\\x89\\xc02\\xc0.\\xc0*\\xc0&\\xc0\\x0f\\xc0\\x05\\x00\\x9d\\x00=\\x005\\x00\\x84\\xc0/\\xc0+\\xc0'\\xc0#\\xc0\\x13\\xc0\\t\\x00\\xa4\\x00\\xa2\\x00\\xa0\\x00\\x9e\\x00g\\x00@\\x00?\\x00>\\x003\\x002\\x001\\x000\\x00\\x9a\\x00\\x99\\x00\\x98\\x00\\x97\\x00E\\x00D\\x00C\\x00B\\xc0\\x18\\x00\\xa6\\x00l\\x004\\x00\\x9b\\x00F\\xc01\\xc0-\\xc0)\\xc0%\\xc0\\x0e\\xc0\\x04\\x00\\x9c\\x00<\\x00/\\x00\\x96\\x00A\\x00\\x07\\xc0\\x11\\xc0\\x07\\xc0\\x16\\x00\\x18\\xc0\\x0c\\xc0\\x02\\x00\\x05\\x00\\x04\\xc0\\x12\\xc0\\x08\\x00\\x16\\x00\\x13\\x00\\x10\\x00\\r\\xc0\\x17\\x00\\x1b\\xc0\\r\\xc0\\x03\\x00\\n\\x00\\x15\\x00\\x12\\x00\\x0f\"]\n",
      "Bad pipe message: %s [b'\\xde11|O\\x10.\\xe9pX\\xf6L\\xe5\\x81\\x8d\\xf3\\xd1? \\x93\\x9a\\x88T!\\xf57\\xfa{\\xb8\\x9b9@\\x0b\\x82L\\xda\\xa1Z( y\\xf8\\x95\\xa0\\x1fz\\x93\\x05\\xe4\\xfb\\xf4\\x00\\x08\\x13\\x02\\x13\\x03\\x13\\x01\\x00\\xff\\x01\\x00\\x00\\x8f\\x00\\x00\\x00\\x0e\\x00\\x0c\\x00\\x00\\t127.0.0.1\\x00\\x0b\\x00\\x04\\x03\\x00\\x01\\x02\\x00\\n\\x00\\x0c\\x00\\n\\x00\\x1d\\x00\\x17\\x00\\x1e\\x00\\x19\\x00\\x18\\x00#\\x00\\x00\\x00\\x16\\x00\\x00\\x00\\x17\\x00\\x00\\x00\\r\\x00\\x1e\\x00\\x1c\\x04\\x03\\x05\\x03\\x06\\x03\\x08\\x07\\x08\\x08\\x08\\t\\x08\\n\\x08\\x0b\\x08\\x04\\x08\\x05\\x08\\x06\\x04\\x01\\x05\\x01\\x06\\x01\\x00+\\x00\\x03\\x02\\x03\\x04\\x00-\\x00\\x02\\x01\\x01\\x003\\x00&\\x00$\\x00\\x1d\\x00 \\x03\\xf2\\x11_\\x82\\xb8v\\xfd\\xdb9H-\\x92\\xc8\\x9e\\x12\\xadH\\xb6\\x81R']\n",
      "Bad pipe message: %s [b'']\n",
      "Bad pipe message: %s [b'\\x81^\\xa9T\\x15b\\xff\\xfc\\x12\\x9d\\xe4\\xcf\\xe6\\xaaj\\x02\\xd6\\r }\\xdf\\xbe\\xd8)K\\xc7\\xc7\\x0b\\xad\\xdb\\x90G\\xa8X\\xd0\\rQ\\xbbB\\xab\\xcc\\x97$,\\xae\\xc5\\xfc\\x0b\\\\w\\xa7\\x00\\x08\\x13\\x02\\x13\\x03\\x13\\x01\\x00\\xff\\x01\\x00\\x00\\x8f\\x00\\x00\\x00\\x0e\\x00\\x0c\\x00\\x00\\t127.0.0.1\\x00\\x0b\\x00']\n",
      "Bad pipe message: %s [b'\\x9a\\x9eF\\xb2\\x98;0^\\x06\\xc3n5\\xf7\\xe5\\xffjp\\xd3\\x00\\x00|\\xc0,\\xc00\\x00\\xa3\\x00\\x9f\\xcc\\xa9\\xcc\\xa8\\xcc\\xaa\\xc0\\xaf\\xc0\\xad\\xc0\\xa3\\xc0\\x9f\\xc0]\\xc0a\\xc0W\\xc0S\\xc0+\\xc0/\\x00\\xa2\\x00\\x9e\\xc0\\xae\\xc0\\xac']\n",
      "Bad pipe message: %s [b'\\tEc\\xf0\\xe3/\\x14\\xe6\\x92\\xafk\\xc7\\xfdO\\x03\\xd7\\x17\\xe0\\x00\\x00>\\xc0\\x14\\xc0\\n\\x009\\x008\\x007\\x006\\xc0', b'\\x05\\x005\\xc0\\x13\\xc0\\t\\x003\\x002\\x001\\x00']\n",
      "Bad pipe message: %s [b'\\x0e\\xc0\\x04\\x00/\\x00\\x9a\\x00\\x99\\x00\\x98\\x00\\x97\\x00\\x96\\x00\\x07\\xc0\\x11\\xc0\\x07\\xc0\\x0c\\xc0\\x02\\x00\\x05\\x00\\x04\\x00\\xff\\x02\\x01\\x00\\x00C\\x00\\x00\\x00\\x0e\\x00\\x0c\\x00\\x00\\t12']\n",
      "Bad pipe message: %s [b'0.0.1\\x00\\x0b\\x00\\x04\\x03\\x00\\x01\\x02\\x00\\n\\x00\\x1c\\x00\\x1a\\x00\\x17\\x00\\x19\\x00\\x1c\\x00\\x1b\\x00\\x18\\x00\\x1a\\x00\\x16\\x00\\x0e\\x00\\r\\x00\\x0b\\x00\\x0c\\x00\\t\\x00\\n\\x00#\\x00\\x00\\x00\\x0f\\x00\\x01\\x01']\n",
      "Bad pipe message: %s [b'\\x19\\xdc1JX\\xe6#\\x1a\\xb7\\x87\\xc5x\\x88\\x8f\\x82\\xb3Q\\xf9\\x00\\x00>\\xc0\\x14\\xc0\\n\\x009\\x008\\x007\\x006\\xc0\\x0f\\xc0\\x05\\x005\\xc0\\x13\\xc0\\t\\x003\\x002\\x001\\x000\\xc0\\x0e\\xc0\\x04\\x00/\\x00\\x9a\\x00\\x99\\x00\\x98\\x00\\x97\\x00\\x96\\x00\\x07\\xc0\\x11\\xc0\\x07\\xc0\\x0c\\xc0\\x02\\x00\\x05\\x00\\x04\\x00\\xff\\x02\\x01\\x00\\x00C\\x00\\x00\\x00\\x0e\\x00\\x0c\\x00\\x00\\t127.0.0.1\\x00\\x0b\\x00\\x04\\x03\\x00\\x01\\x02\\x00\\n\\x00\\x1c\\x00\\x1a\\x00\\x17\\x00\\x19\\x00\\x1c\\x00\\x1b\\x00\\x18\\x00\\x1a\\x00']\n",
      "Bad pipe message: %s [b'\\x0e\\x00\\r\\x00\\x0b\\x00\\x0c\\x00\\t\\x00\\n\\x00#\\x00\\x00\\x00\\x0f\\x00\\x01\\x01\\x15']\n",
      "Bad pipe message: %s [b\"\\xabT\\x92\\x98n\\x987\\xb2\\xbe\\xe7a+\\x95\\x8f\\x07O\\xb7x\\x00\\x00\\x86\\xc00\\xc0,\\xc0(\\xc0$\\xc0\\x14\\xc0\\n\\x00\\xa5\\x00\\xa3\\x00\\xa1\\x00\\x9f\\x00k\\x00j\\x00i\\x00h\\x009\\x008\\x007\\x006\\xc02\\xc0.\\xc0*\\xc0&\\xc0\\x0f\\xc0\\x05\\x00\\x9d\\x00=\\x005\\xc0/\\xc0+\\xc0'\\xc0#\\xc0\\x13\\xc0\\t\\x00\\xa4\\x00\\xa2\\x00\\xa0\\x00\\x9e\\x00g\\x00@\\x00?\\x00>\\x003\\x002\\x001\\x000\\xc01\\xc0-\\xc0)\\xc0%\\xc0\\x0e\\xc0\\x04\\x00\\x9c\\x00<\\x00/\\x00\\x9a\\x00\\x99\\x00\\x98\\x00\\x97\\x00\\x96\\x00\\x07\\xc0\\x11\\xc0\"]\n",
      "Bad pipe message: %s [b'\\x0c\\xc0\\x02\\x00\\x05\\x00']\n",
      "Bad pipe message: %s [b'\\xff\\x02\\x01']\n",
      "Bad pipe message: %s [b'\\xfd\\xd9\\nF\\xcd\\xb7\\n\\xab\\xf0^QJ\"\\xed\\xf3\\x80\\x1e\\x14\\x00\\x00\\xf4\\xc00\\xc0,\\xc0(\\xc0$\\xc0\\x14\\xc0\\n\\x00\\xa5\\x00\\xa3\\x00\\xa1\\x00\\x9f\\x00k\\x00j\\x00i\\x00h\\x009\\x008\\x007\\x006\\x00\\x88\\x00\\x87\\x00\\x86\\x00\\x85\\xc0\\x19\\x00\\xa7\\x00m\\x00:\\x00\\x89\\xc02\\xc0.\\xc0*\\xc0&\\xc0\\x0f\\xc0\\x05\\x00\\x9d\\x00=\\x005\\x00\\x84\\xc0/\\xc0+\\xc0\\'\\xc0#\\xc0\\x13\\xc0\\t\\x00\\xa4\\x00\\xa2\\x00\\xa0\\x00\\x9e\\x00g\\x00@\\x00?\\x00>\\x003\\x002\\x001\\x000\\x00\\x9a\\x00\\x99\\x00\\x98\\x00\\x97\\x00E\\x00D\\x00C\\x00B\\xc0\\x18\\x00\\xa6\\x00l\\x004\\x00\\x9b\\x00F\\xc01\\xc0-\\xc0)\\xc0%\\xc0\\x0e\\xc0\\x04\\x00\\x9c']\n",
      "Bad pipe message: %s [b'\\xd7\\x03\\xe9\\xc3D\\x0f\\x7f\\x86R\\xf1\\xc0\\xb7x\\xa1=\\xac\\xb6\\xfb \\x01\\xebmp\\xa8\\x9dC\\x91\\x99D\\x7f*a\\x1b\\xfeb3\\xbb\\x93\\x95\\xceL\\x94<\\x89&\\x9e\\x14q\\xd4}\\xb4\\x00\\x08\\x13\\x02\\x13\\x03\\x13\\x01\\x00\\xff\\x01\\x00\\x00\\x8f\\x00\\x00\\x00\\x0e\\x00\\x0c\\x00\\x00\\t127.0.0.1\\x00\\x0b\\x00\\x04\\x03\\x00\\x01\\x02\\x00\\n\\x00\\x0c\\x00\\n\\x00\\x1d\\x00\\x17\\x00\\x1e\\x00\\x19\\x00\\x18\\x00#\\x00\\x00\\x00\\x16\\x00\\x00\\x00\\x17\\x00\\x00\\x00\\r\\x00\\x1e\\x00\\x1c\\x04\\x03\\x05\\x03\\x06\\x03\\x08\\x07\\x08\\x08\\x08\\t\\x08\\n\\x08\\x0b\\x08\\x04\\x08\\x05\\x08\\x06\\x04\\x01\\x05\\x01\\x06\\x01\\x00+\\x00\\x03\\x02\\x03\\x04\\x00-\\x00\\x02\\x01\\x01\\x003\\x00&\\x00$\\x00\\x1d\\x00 \\x80\\xf2:\\x17g\\xe5\\x8c\\xc8\\x88\\x8aH\\x89']\n",
      "Bad pipe message: %s [b\"\\xacpwc,sBH\\xfd\\xe4\\xbb\\xd6\\x82\\xd2^g~\\xa0  \\xb3\\xd7\\xf3\\xf1\\xf2)\\xe8\\xeeT\\x83W\\xd0\\xe4p\\x9a^\\xc8\\xef\\xc9\\xa4/9\\x11\\x13\\x19'zP\\x8cT\\xdf\\x00\\x08\\x13\\x02\\x13\\x03\\x13\\x01\\x00\\xff\\x01\\x00\\x00\\x8f\\x00\\x00\\x00\\x0e\\x00\\x0c\\x00\\x00\\t127.0.0.1\\x00\\x0b\\x00\\x04\\x03\\x00\", b'']\n",
      "Bad pipe message: %s [b':\\x8fF\\x14\\xe0\\xac\"MW\\x94\\x84\\xe4k\\xa4\\x83\\xc4=*\\x00\\x00|\\xc0,\\xc00\\x00\\xa3\\x00\\x9f\\xcc\\xa9\\xcc\\xa8\\xcc\\xaa\\xc0\\xaf\\xc0\\xad\\xc0\\xa3\\xc0\\x9f\\xc0]\\xc0a\\xc0W\\xc0S\\xc0+\\xc0/\\x00\\xa2\\x00\\x9e\\xc0\\xae\\xc0\\xac\\xc0\\xa2\\xc0\\x9e\\xc0\\\\\\xc0`\\xc0V\\xc0R\\xc0$\\xc0(\\x00k\\x00j\\xc0#\\xc0\\'\\x00g\\x00@\\xc0\\n\\xc0\\x14\\x009\\x008\\xc0\\t\\xc0\\x13\\x003\\x002\\x00\\x9d\\xc0\\xa1\\xc0\\x9d\\xc0Q\\x00\\x9c\\xc0\\xa0\\xc0\\x9c\\xc0P\\x00=\\x00<\\x005\\x00/\\x00\\x9a\\x00\\x99\\xc0\\x07\\xc0\\x11\\x00\\x96\\x00\\x05\\x00\\xff\\x01\\x00\\x00j\\x00\\x00\\x00\\x0e\\x00\\x0c\\x00\\x00\\t127.0.0.1\\x00\\x0b\\x00\\x04\\x03\\x00\\x01\\x02\\x00\\n\\x00\\x0c\\x00\\n\\x00\\x1d\\x00\\x17\\x00\\x1e\\x00\\x19\\x00\\x18\\x00#\\x00\\x00\\x00\\x16\\x00\\x00\\x00\\x17\\x00\\x00\\x00\\r\\x000\\x00.\\x04\\x03\\x05\\x03\\x06\\x03\\x08\\x07', b'\\x08\\t\\x08\\n\\x08\\x0b\\x08']\n",
      "Bad pipe message: %s [b'\\x05\\x08\\x06']\n",
      "Bad pipe message: %s [b'\\x05\\x01\\x06', b'', b'\\x03\\x03']\n",
      "Bad pipe message: %s [b'']\n",
      "Bad pipe message: %s [b'', b'\\x02']\n",
      "Bad pipe message: %s [b'\\x05\\x02\\x06']\n",
      "Bad pipe message: %s [b';\\x15\\x82~\\x03\\xc0pm6N_\\xd5CO[\\xc0s\\xc1\\x00\\x00\\xa6\\xc0,\\xc00\\x00\\xa3\\x00\\x9f\\xcc\\xa9\\xcc\\xa8\\xcc\\xaa\\xc0\\xaf\\xc0\\xad\\xc0\\xa3\\xc0\\x9f\\xc0]\\xc0a\\xc0W\\xc0S\\xc0+\\xc0/\\x00\\xa2\\x00\\x9e\\xc0\\xae\\xc0\\xac\\xc0\\xa2\\xc0\\x9e\\xc0\\\\\\xc0`\\xc0V\\xc0R\\xc0']\n",
      "Bad pipe message: %s [b\"(\\x00k\\x00j\\xc0s\\xc0w\\x00\\xc4\\x00\\xc3\\xc0#\\xc0'\\x00g\\x00@\\xc0r\\xc0v\\x00\\xbe\\x00\\xbd\\xc0\\n\\xc0\\x14\\x009\"]\n",
      "Bad pipe message: %s [b'\\x84\\x9c=\"\\xf3\\xfc\\xe3\\xb4f\\xcc^\\x9e\\xd8\\xa0\\xeaK\\x957\\x00\\x00>\\xc0\\x14\\xc0\\n\\x009\\x008\\x007\\x006\\xc0\\x0f\\xc0\\x05\\x005\\xc0\\x13\\xc0\\t\\x003\\x002\\x001\\x000\\xc0\\x0e\\xc0\\x04\\x00/\\x00\\x9a\\x00\\x99\\x00\\x98\\x00\\x97\\x00\\x96\\x00\\x07\\xc0\\x11\\xc0\\x07\\xc0\\x0c\\xc0\\x02\\x00\\x05\\x00\\x04\\x00\\xff\\x02\\x01\\x00\\x00C\\x00\\x00\\x00\\x0e\\x00\\x0c\\x00\\x00\\t127.0.0.1\\x00\\x0b\\x00\\x04\\x03\\x00\\x01\\x02\\x00\\n']\n",
      "Bad pipe message: %s [b'u\\xeb\\xfd\\xd4{Z\\xed\\x08@\\x1a\\x1e.\\x15\\xc6\\xcev\\x87\\x8f\\x00\\x00\\xa2\\xc0\\x14\\xc0\\n\\x009\\x008\\x007\\x006\\x00\\x88\\x00\\x87\\x00\\x86\\x00\\x85\\xc0\\x19\\x00:\\x00\\x89\\xc0\\x0f\\xc0\\x05\\x005\\x00\\x84\\xc0\\x13\\xc0\\t\\x003\\x002\\x001\\x000\\x00\\x9a\\x00\\x99\\x00\\x98\\x00\\x97\\x00E\\x00D\\x00C\\x00B\\xc0\\x18\\x004\\x00\\x9b\\x00F\\xc0\\x0e\\xc0\\x04\\x00/\\x00\\x96\\x00A\\x00\\x07\\xc0\\x11\\xc0\\x07\\xc0\\x16\\x00\\x18\\xc0\\x0c\\xc0\\x02\\x00\\x05\\x00\\x04\\xc0\\x12\\xc0\\x08\\x00\\x16\\x00\\x13\\x00\\x10\\x00\\r\\xc0\\x17\\x00\\x1b\\xc0\\r\\xc0\\x03\\x00\\n\\x00\\x15\\x00\\x12\\x00\\x0f\\x00\\x0c\\x00\\x1a\\x00\\t\\x00\\x14\\x00\\x11\\x00\\x19\\x00\\x08\\x00\\x06\\x00\\x17\\x00\\x03\\xc0\\x10\\xc0\\x06\\xc0\\x15\\xc0\\x0b\\xc0\\x01\\x00\\x02\\x00\\x01\\x00\\xff\\x02\\x01\\x00\\x00C\\x00\\x00\\x00\\x0e\\x00\\x0c\\x00\\x00\\t127.0.0.1\\x00\\x0b\\x00\\x04\\x03\\x00\\x01\\x02\\x00\\n\\x00\\x1c\\x00\\x1a\\x00\\x17\\x00\\x19\\x00\\x1c\\x00\\x1b\\x00\\x18\\x00\\x1a\\x00']\n",
      "Bad pipe message: %s [b'\\x0e\\x00\\r\\x00\\x0b\\x00\\x0c\\x00\\t\\x00\\n\\x00#\\x00\\x00\\x00\\x0f\\x00\\x01\\x01\\x15']\n",
      "Bad pipe message: %s [b'\\x00\\x02']\n",
      "Bad pipe message: %s [b\"\\xcc\\x1dr\\x06\\r\\x91\\xc75'\\xc4\\xfa1v\\xe92\\xfeB\\xcb\\x00\\x00\\xa2\\xc0\\x14\\xc0\\n\\x009\\x008\\x007\\x006\\x00\\x88\\x00\\x87\\x00\\x86\\x00\\x85\\xc0\\x19\\x00:\\x00\\x89\\xc0\\x0f\\xc0\\x05\\x005\\x00\\x84\\xc0\\x13\\xc0\\t\\x003\\x002\\x001\\x000\\x00\\x9a\\x00\\x99\\x00\\x98\\x00\\x97\\x00E\\x00D\\x00C\\x00B\\xc0\\x18\\x004\\x00\\x9b\\x00F\\xc0\\x0e\\xc0\\x04\\x00/\\x00\\x96\\x00A\\x00\\x07\\xc0\\x11\\xc0\\x07\\xc0\\x16\\x00\\x18\\xc0\\x0c\\xc0\\x02\\x00\\x05\\x00\\x04\\xc0\\x12\\xc0\\x08\\x00\\x16\\x00\\x13\\x00\\x10\\x00\\r\\xc0\\x17\\x00\\x1b\\xc0\\r\\xc0\\x03\\x00\\n\\x00\\x15\\x00\\x12\\x00\\x0f\\x00\\x0c\\x00\\x1a\\x00\\t\\x00\\x14\\x00\\x11\\x00\\x19\\x00\\x08\\x00\\x06\\x00\\x17\\x00\\x03\\xc0\\x10\\xc0\\x06\\xc0\\x15\\xc0\\x0b\\xc0\\x01\\x00\\x02\\x00\\x01\\x00\\xff\\x02\\x01\\x00\\x00C\\x00\\x00\\x00\\x0e\\x00\\x0c\\x00\\x00\\t127.0.0.1\\x00\\x0b\\x00\\x04\\x03\\x00\\x01\\x02\\x00\\n\\x00\\x1c\\x00\"]\n",
      "Bad pipe message: %s [b'\\x17\\x00\\x19\\x00\\x1c\\x00\\x1b\\x00\\x18\\x00\\x1a\\x00\\x16\\x00\\x0e\\x00\\r\\x00\\x0b\\x00\\x0c\\x00\\t\\x00\\n']\n",
      "Bad pipe message: %s [b\"\\xb0\\x9e\\x0eT\\x14\\x02\\xba\\xc4\\xfe\\xe5%\\x8b\\x13>\\x8c\\x81p\\xfe\\x00\\x00\\x86\\xc00\\xc0,\\xc0(\\xc0$\\xc0\\x14\\xc0\\n\\x00\\xa5\\x00\\xa3\\x00\\xa1\\x00\\x9f\\x00k\\x00j\\x00i\\x00h\\x009\\x008\\x007\\x006\\xc02\\xc0.\\xc0*\\xc0&\\xc0\\x0f\\xc0\\x05\\x00\\x9d\\x00=\\x005\\xc0/\\xc0+\\xc0'\\xc0#\\xc0\\x13\\xc0\\t\\x00\\xa4\\x00\\xa2\\x00\\xa0\\x00\\x9e\\x00g\\x00@\\x00?\\x00>\\x003\\x002\\x001\\x000\\xc01\\xc0-\\xc0)\\xc0%\\xc0\\x0e\\xc0\\x04\\x00\\x9c\\x00<\\x00/\\x00\\x9a\\x00\\x99\\x00\\x98\\x00\\x97\\x00\\x96\\x00\\x07\\xc0\\x11\\xc0\\x07\\xc0\\x0c\\xc0\\x02\\x00\\x05\\x00\\x04\\x00\\xff\\x02\\x01\\x00\\x00g\\x00\\x00\\x00\\x0e\\x00\\x0c\\x00\\x00\\t\", b'7.0.0.1\\x00\\x0b\\x00\\x04\\x03\\x00\\x01\\x02\\x00\\n\\x00\\x1c\\x00\\x1a\\x00\\x17\\x00\\x19\\x00\\x1c\\x00\\x1b\\x00\\x18\\x00\\x1a\\x00\\x16\\x00\\x0e\\x00\\r\\x00\\x0b\\x00\\x0c\\x00\\t\\x00\\n\\x00']\n",
      "Bad pipe message: %s [b'\\x00\\x00\\r\\x00 \\x00\\x1e\\x06\\x01\\x06\\x02\\x06\\x03\\x05\\x01\\x05\\x02\\x05\\x03\\x04\\x01\\x04\\x02\\x04\\x03\\x03\\x01\\x03\\x02\\x03\\x03\\x02\\x01\\x02']\n",
      "Bad pipe message: %s [b'\\x03']\n",
      "Bad pipe message: %s [b\"\\x1bYU`\\xc4\\x0b!\\x02\\xa2\\xf1\\xbe\\xa4\\xbc\\xa2n\\xa2\\x84\\xb8\\x00\\x00\\xf4\\xc00\\xc0,\\xc0(\\xc0$\\xc0\\x14\\xc0\\n\\x00\\xa5\\x00\\xa3\\x00\\xa1\\x00\\x9f\\x00k\\x00j\\x00i\\x00h\\x009\\x008\\x007\\x006\\x00\\x88\\x00\\x87\\x00\\x86\\x00\\x85\\xc0\\x19\\x00\\xa7\\x00m\\x00:\\x00\\x89\\xc02\\xc0.\\xc0*\\xc0&\\xc0\\x0f\\xc0\\x05\\x00\\x9d\\x00=\\x005\\x00\\x84\\xc0/\\xc0+\\xc0'\\xc0#\\xc0\\x13\\xc0\\t\\x00\\xa4\\x00\\xa2\\x00\\xa0\\x00\\x9e\\x00g\\x00@\\x00?\\x00>\\x003\"]\n",
      "Bad pipe message: %s [b'K\\xa67\\xd7Z\\xa1\\\\|L\\xc3R\\xd4i\\xc5\\x15\\xdc\\x82p \\xb1\\x12\\xb3\\xa9Kc\\xde\\xbe\\x14\\xfd\\xe3\\x91NJ/\\n\\xa7']\n",
      "Bad pipe message: %s [b\"\\xd7\\xaf\\x7f\\xf2\\xa7\\x91\\xc1\\x99\\x1c>\\xf8E]\\xf5{\\xb4\\xa9\\xbb\\x00\\x00|\\xc0,\\xc00\\x00\\xa3\\x00\\x9f\\xcc\\xa9\\xcc\\xa8\\xcc\\xaa\\xc0\\xaf\\xc0\\xad\\xc0\\xa3\\xc0\\x9f\\xc0]\\xc0a\\xc0W\\xc0S\\xc0+\\xc0/\\x00\\xa2\\x00\\x9e\\xc0\\xae\\xc0\\xac\\xc0\\xa2\\xc0\\x9e\\xc0\\\\\\xc0`\\xc0V\\xc0R\\xc0$\\xc0(\\x00k\\x00j\\xc0#\\xc0'\\x00g\\x00@\\xc0\\n\\xc0\\x14\\x009\\x008\\xc0\\t\\xc0\\x13\\x003\\x002\\x00\\x9d\\xc0\\xa1\\xc0\\x9d\\xc0Q\\x00\\x9c\\xc0\\xa0\\xc0\\x9c\\xc0P\\x00=\\x00<\\x005\\x00/\\x00\\x9a\\x00\\x99\\xc0\\x07\\xc0\\x11\\x00\\x96\\x00\\x05\\x00\\xff\\x01\\x00\\x00j\\x00\\x00\\x00\\x0e\\x00\\x0c\\x00\\x00\\t127.0.0.1\\x00\\x0b\\x00\\x04\\x03\\x00\\x01\\x02\\x00\\n\\x00\\x0c\\x00\\n\\x00\\x1d\\x00\\x17\\x00\\x1e\\x00\\x19\\x00\\x18\\x00#\\x00\\x00\\x00\\x16\\x00\\x00\\x00\\x17\\x00\\x00\\x00\\r\\x000\\x00.\\x04\\x03\"]\n",
      "Bad pipe message: %s [b'\\x06\\x03\\x08\\x07', b'\\x08\\t\\x08\\n\\x08\\x0b\\x08']\n",
      "Bad pipe message: %s [b'\\x05\\x08\\x06']\n",
      "Bad pipe message: %s [b'\\x05\\x01\\x06', b'', b'\\x03\\x03']\n",
      "Bad pipe message: %s [b'']\n",
      "Bad pipe message: %s [b'', b'\\x02']\n",
      "Bad pipe message: %s [b'\\x05\\x02\\x06']\n",
      "Bad pipe message: %s [b'\\x93\\x0b.4G\\x9e\\xee\\xb4Q\\xea\\xd6\\x15~\\xb9\\x91\\x0f\\xdd\\xa3\\x00\\x00>\\xc0\\x14\\xc0\\n\\x009\\x008\\x007\\x006\\xc0\\x0f\\xc0\\x05\\x005\\xc0\\x13\\xc0\\t\\x003\\x002\\x001\\x000\\xc0\\x0e\\xc0\\x04\\x00/\\x00\\x9a\\x00\\x99\\x00\\x98\\x00\\x97\\x00\\x96\\x00\\x07\\xc0\\x11\\xc0\\x07\\xc0\\x0c\\xc0\\x02\\x00\\x05\\x00\\x04\\x00\\xff\\x02\\x01\\x00\\x00C\\x00\\x00\\x00\\x0e\\x00\\x0c\\x00\\x00\\t127.0.0.1\\x00\\x0b\\x00\\x04\\x03\\x00\\x01\\x02\\x00\\n\\x00\\x1c\\x00\\x1a\\x00\\x17\\x00\\x19\\x00']\n",
      "Bad pipe message: %s [b'\\x1b\\x00\\x18\\x00\\x1a\\x00\\x16\\x00\\x0e\\x00\\r\\x00\\x0b\\x00\\x0c\\x00\\t\\x00\\n\\x00#\\x00\\x00\\x00\\x0f\\x00\\x01']\n",
      "Bad pipe message: %s [b'', b'\\x00\\x02']\n",
      "Bad pipe message: %s [b'\\xf8/T\\x13z\\xa4\\x8al\\xac\\xbf\\xdd\\x81\\xad\\x05\\xbe\\x91\\xbc\\x1f\\x00\\x00\\xa2\\xc0\\x14\\xc0\\n\\x009\\x008\\x007\\x006\\x00\\x88\\x00\\x87\\x00\\x86\\x00\\x85\\xc0\\x19\\x00:\\x00\\x89\\xc0\\x0f\\xc0\\x05\\x005\\x00\\x84\\xc0\\x13\\xc0\\t\\x003\\x002\\x001\\x000\\x00\\x9a\\x00\\x99\\x00\\x98\\x00\\x97\\x00E\\x00D\\x00C\\x00B\\xc0\\x18\\x004\\x00\\x9b\\x00F\\xc0\\x0e\\xc0\\x04\\x00/\\x00\\x96\\x00A\\x00\\x07\\xc0\\x11\\xc0\\x07\\xc0\\x16\\x00\\x18\\xc0\\x0c\\xc0\\x02\\x00\\x05\\x00\\x04\\xc0\\x12\\xc0\\x08\\x00\\x16\\x00\\x13\\x00\\x10\\x00\\r\\xc0\\x17\\x00\\x1b\\xc0\\r\\xc0\\x03\\x00\\n\\x00\\x15\\x00\\x12\\x00\\x0f\\x00\\x0c\\x00\\x1a\\x00\\t\\x00\\x14\\x00\\x11\\x00\\x19\\x00\\x08\\x00\\x06\\x00\\x17\\x00\\x03\\xc0\\x10\\xc0\\x06\\xc0\\x15\\xc0\\x0b\\xc0\\x01\\x00\\x02\\x00\\x01\\x00\\xff\\x02\\x01\\x00\\x00C\\x00\\x00\\x00\\x0e\\x00\\x0c\\x00\\x00\\t127.0.0']\n",
      "Bad pipe message: %s [b'\\x11\\x06A>\\x8f|XD2W\\xdc\\x0c\\x15DNkX\\xf6\\x00\\x00>\\xc0\\x14\\xc0', b'9\\x008\\x007\\x006\\xc0\\x0f']\n",
      "Bad pipe message: %s [b'\\xb7\\xa9T\\xbf\\xd3\\xd2\\x12\\xd4\\xf8\\xfc\\xb1L\\xca\\x8c\\xd9j\\x14\\x9f\\x00\\x00\\xa2\\xc0\\x14\\xc0\\n\\x009\\x008\\x007\\x006\\x00\\x88\\x00\\x87\\x00\\x86\\x00\\x85\\xc0\\x19\\x00:\\x00\\x89\\xc0\\x0f\\xc0\\x05\\x005\\x00\\x84\\xc0\\x13\\xc0\\t\\x003\\x002\\x001\\x000\\x00\\x9a\\x00\\x99\\x00\\x98\\x00\\x97\\x00E\\x00D\\x00C\\x00B\\xc0\\x18\\x004\\x00\\x9b\\x00F\\xc0\\x0e\\xc0\\x04\\x00/\\x00\\x96\\x00A\\x00\\x07\\xc0\\x11\\xc0\\x07\\xc0\\x16\\x00\\x18\\xc0\\x0c\\xc0\\x02\\x00\\x05\\x00\\x04\\xc0\\x12\\xc0\\x08\\x00\\x16\\x00']\n",
      "Bad pipe message: %s [b'\\x10\\x00\\r\\xc0\\x17\\x00\\x1b\\xc0\\r\\xc0\\x03\\x00\\n\\x00\\x15\\x00\\x12\\x00']\n",
      "Bad pipe message: %s [b'\\x0c\\x00\\x1a\\x00\\t\\x00\\x14\\x00\\x11\\x00\\x19\\x00\\x08\\x00']\n",
      "Bad pipe message: %s [b'\\x17\\x00\\x03\\xc0\\x10']\n",
      "Bad pipe message: %s [b\"c|\\x10Gp\\x01\\x91\\xe5\\xa6\\x9aU8\\xc8\\xb7\\xf0\\xfa\\xa9\\x17\\x00\\x00\\xf4\\xc00\\xc0,\\xc0(\\xc0$\\xc0\\x14\\xc0\\n\\x00\\xa5\\x00\\xa3\\x00\\xa1\\x00\\x9f\\x00k\\x00j\\x00i\\x00h\\x009\\x008\\x007\\x006\\x00\\x88\\x00\\x87\\x00\\x86\\x00\\x85\\xc0\\x19\\x00\\xa7\\x00m\\x00:\\x00\\x89\\xc02\\xc0.\\xc0*\\xc0&\\xc0\\x0f\\xc0\\x05\\x00\\x9d\\x00=\\x005\\x00\\x84\\xc0/\\xc0+\\xc0'\\xc0#\\xc0\\x13\\xc0\\t\\x00\\xa4\\x00\\xa2\\x00\\xa0\\x00\\x9e\\x00g\\x00@\\x00?\\x00>\\x003\\x002\\x001\\x000\\x00\\x9a\\x00\\x99\\x00\\x98\\x00\\x97\\x00E\\x00D\\x00C\\x00B\\xc0\\x18\\x00\\xa6\\x00l\\x004\\x00\\x9b\\x00F\\xc01\\xc0-\\xc0)\\xc0%\\xc0\\x0e\\xc0\\x04\\x00\\x9c\\x00<\\x00/\\x00\\x96\\x00A\\x00\\x07\\xc0\\x11\\xc0\\x07\\xc0\\x16\\x00\\x18\\xc0\\x0c\\xc0\\x02\\x00\\x05\\x00\\x04\\xc0\\x12\\xc0\\x08\\x00\\x16\\x00\\x13\\x00\\x10\\x00\\r\\xc0\\x17\\x00\\x1b\\xc0\\r\\xc0\\x03\\x00\\n\\x00\\x15\\x00\\x12\\x00\\x0f\\x00\\x0c\\x00\\x1a\\x00\\t\\x00\"]\n",
      "Bad pipe message: %s [b'\\x11\\x00\\x19\\x00\\x08\\x00\\x06\\x00\\x17\\x00\\x03\\xc0\\x10\\xc0\\x06\\xc0\\x15\\xc0\\x0b']\n",
      "Bad pipe message: %s [b'o^\\xacPZ51\\xf3EM\\x19\\xe3\\xd1\\xff\\x7f\\xbf\\xaa\\x7f \\xe4fa\\x82\\x8bt\\xb4Y\\x80\\xe6\\xc7d\\xb7SHrF\\x12C\\xfb\\xe2N\\xcfIt\\xc8\\x1d\\x8c\\xc2A+U\\x00\\x08\\x13\\x02\\x13\\x03\\x13\\x01\\x00\\xff\\x01\\x00\\x00\\x8f\\x00\\x00\\x00\\x0e\\x00\\x0c\\x00\\x00\\t127.0.0.1\\x00\\x0b\\x00\\x04\\x03\\x00\\x01\\x02\\x00\\n\\x00\\x0c\\x00\\n\\x00\\x1d\\x00\\x17\\x00\\x1e\\x00\\x19\\x00\\x18\\x00#\\x00\\x00\\x00\\x16\\x00\\x00\\x00\\x17\\x00\\x00\\x00\\r\\x00\\x1e\\x00\\x1c\\x04\\x03\\x05\\x03\\x06\\x03\\x08\\x07\\x08\\x08\\x08\\t\\x08\\n\\x08\\x0b\\x08\\x04\\x08\\x05\\x08\\x06\\x04\\x01\\x05\\x01\\x06\\x01\\x00+\\x00\\x03\\x02\\x03\\x04\\x00-\\x00\\x02\\x01\\x01\\x003\\x00&\\x00$\\x00\\x1d\\x00 \\xcb\\xbcA\\xc1C7\\x11\\xca\\x0b\\xbb.X\\xa0\\xeco\\xdd\\x897H\\tv\\xb0\\r\\xb7>u\\xa1(\\x15~']\n",
      "Bad pipe message: %s [b\"\\x97\\xb9\\x88$\\xd7<\\x1e'\\xdf`-\\xeb\\xe6q\\x7f\\xfaz\\xb0\\x00\\x00|\\xc0,\\xc00\\x00\\xa3\\x00\\x9f\\xcc\\xa9\\xcc\\xa8\\xcc\\xaa\\xc0\\xaf\\xc0\\xad\\xc0\\xa3\\xc0\\x9f\\xc0]\\xc0a\\xc0W\\xc0S\\xc0+\\xc0/\\x00\\xa2\\x00\", b\"\\xae\\xc0\\xac\\xc0\\xa2\\xc0\\x9e\\xc0\\\\\\xc0`\\xc0V\\xc0R\\xc0$\\xc0(\\x00k\\x00j\\xc0#\\xc0'\\x00g\\x00@\\xc0\\n\\xc0\\x14\\x009\\x008\\xc0\\t\\xc0\\x13\\x003\\x002\\x00\\x9d\\xc0\\xa1\\xc0\\x9d\\xc0Q\\x00\\x9c\\xc0\\xa0\\xc0\\x9c\\xc0P\\x00=\\x00<\\x005\\x00/\\x00\\x9a\\x00\\x99\\xc0\\x07\\xc0\\x11\\x00\\x96\\x00\\x05\\x00\\xff\\x01\\x00\\x00j\\x00\\x00\\x00\\x0e\\x00\\x0c\\x00\\x00\\t127.0.0.1\\x00\\x0b\\x00\\x04\\x03\\x00\\x01\\x02\\x00\\n\\x00\\x0c\\x00\\n\\x00\\x1d\\x00\\x17\\x00\\x1e\\x00\\x19\\x00\\x18\\x00#\\x00\\x00\\x00\\x16\\x00\\x00\\x00\\x17\\x00\\x00\\x00\\r\\x000\\x00.\\x04\\x03\\x05\\x03\\x06\\x03\\x08\\x07\"]\n",
      "Bad pipe message: %s [b'\\x08\\t\\x08\\n\\x08\\x0b\\x08']\n",
      "Bad pipe message: %s [b'\\x05\\x08\\x06']\n",
      "Bad pipe message: %s [b'\\x05\\x01\\x06', b'', b'\\x03\\x03']\n",
      "Bad pipe message: %s [b'']\n",
      "Bad pipe message: %s [b'', b'\\x02']\n",
      "Bad pipe message: %s [b'\\x05\\x02\\x06']\n",
      "Bad pipe message: %s [b'!h:T\\xd7I\\xa2\\xb1}\\x1a\\x02\\xf3\\xd0:W\\x83\\x01\\xd7\\x00\\x00>\\xc0\\x14\\xc0\\n\\x009\\x008\\x007\\x006\\xc0\\x0f\\xc0\\x05\\x005\\xc0\\x13\\xc0\\t\\x003\\x002\\x001\\x00', b'\\x0e\\xc0\\x04\\x00/\\x00\\x9a\\x00\\x99\\x00\\x98\\x00\\x97\\x00\\x96\\x00\\x07\\xc0\\x11\\xc0\\x07\\xc0\\x0c\\xc0\\x02\\x00\\x05\\x00\\x04\\x00\\xff\\x02\\x01\\x00\\x00C\\x00\\x00\\x00\\x0e\\x00\\x0c\\x00\\x00\\t12']\n",
      "Bad pipe message: %s [b'0.0.1\\x00\\x0b\\x00\\x04\\x03\\x00\\x01\\x02\\x00\\n\\x00\\x1c\\x00\\x1a\\x00\\x17\\x00\\x19\\x00\\x1c\\x00\\x1b\\x00\\x18\\x00\\x1a\\x00\\x16\\x00\\x0e\\x00\\r\\x00\\x0b\\x00\\x0c\\x00\\t\\x00\\n\\x00#\\x00\\x00\\x00\\x0f\\x00\\x01\\x01']\n",
      "Bad pipe message: %s [b'Q\\xecC\\xc1\\x91\\xf74\\x8a)V\\x01S\\xc3\\xbfI\\xef1|\\x00\\x00\\xa2\\xc0\\x14\\xc0\\n\\x009\\x008\\x007\\x006\\x00\\x88\\x00\\x87\\x00\\x86\\x00\\x85\\xc0\\x19\\x00:\\x00\\x89\\xc0\\x0f\\xc0\\x05\\x005\\x00\\x84\\xc0\\x13\\xc0\\t\\x003\\x002\\x001\\x000\\x00\\x9a\\x00\\x99\\x00\\x98\\x00\\x97\\x00E\\x00D\\x00C\\x00B\\xc0\\x18\\x004\\x00\\x9b\\x00F\\xc0\\x0e\\xc0\\x04\\x00/\\x00\\x96\\x00A\\x00\\x07\\xc0\\x11\\xc0\\x07\\xc0\\x16\\x00\\x18\\xc0\\x0c\\xc0\\x02\\x00\\x05\\x00\\x04\\xc0\\x12\\xc0\\x08\\x00\\x16\\x00\\x13\\x00\\x10\\x00\\r\\xc0\\x17\\x00\\x1b\\xc0\\r\\xc0\\x03\\x00\\n\\x00\\x15\\x00\\x12\\x00\\x0f\\x00\\x0c\\x00\\x1a\\x00\\t\\x00\\x14\\x00\\x11\\x00\\x19\\x00\\x08\\x00\\x06\\x00\\x17\\x00\\x03\\xc0\\x10\\xc0\\x06\\xc0\\x15\\xc0\\x0b\\xc0\\x01\\x00\\x02\\x00\\x01\\x00\\xff\\x02\\x01\\x00\\x00C\\x00\\x00\\x00\\x0e\\x00\\x0c\\x00\\x00\\t127.', b'0.1\\x00\\x0b\\x00\\x04\\x03\\x00\\x01\\x02\\x00\\n\\x00\\x1c\\x00\\x1a\\x00\\x17\\x00\\x19\\x00\\x1c\\x00\\x1b\\x00\\x18\\x00\\x1a\\x00\\x16\\x00\\x0e\\x00\\r\\x00\\x0b\\x00\\x0c\\x00\\t\\x00\\n\\x00#\\x00\\x00']\n",
      "Bad pipe message: %s [b'\\xc9\\x82l9\\xfd\\x13\\xef\\xe3\\xb8fYV\\xbd\\xc5\\x14\\r\\xaa\\x90\\x00\\x00>\\xc0\\x14\\xc0\\n\\x009\\x008\\x007\\x006\\xc0\\x0f\\xc0\\x05\\x005\\xc0\\x13\\xc0\\t\\x003\\x002\\x001\\x000\\xc0\\x0e\\xc0']\n",
      "Bad pipe message: %s [b'/\\x00\\x9a']\n",
      "Bad pipe message: %s [b'\\xd8\\xa0\\xe75\\xb3Sn6+\\x92\\x06\\x12\\x97D\\x01\\xe9\\xf9.\\x00\\x00\\x86\\xc00\\xc0,\\xc0(\\xc0$\\xc0\\x14\\xc0\\n\\x00\\xa5\\x00\\xa3\\x00\\xa1\\x00\\x9f\\x00k\\x00j\\x00i\\x00h\\x009\\x008\\x007\\x006\\xc02\\xc0.\\xc0*\\xc0&\\xc0\\x0f\\xc0\\x05\\x00\\x9d\\x00=\\x005\\xc0/\\xc0']\n",
      "Bad pipe message: %s [b\"'\\xc0#\\xc0\\x13\\xc0\\t\\x00\\xa4\\x00\\xa2\\x00\\xa0\\x00\\x9e\\x00g\\x00@\\x00?\\x00>\\x003\\x002\\x001\\x000\\xc01\\xc0-\\xc0)\\xc0%\\xc0\\x0e\\xc0\"]\n",
      "Bad pipe message: %s [b'\\x9c\\x00<']\n",
      "Bad pipe message: %s [b'\\xa0|t\\xf9\\x8b5\\x9942\\xffOa\\xea\\xdf\\x1a\\xce\\xde\\xc6\\x00\\x00\\xf4\\xc00\\xc0,\\xc0(\\xc0$\\xc0\\x14\\xc0\\n\\x00\\xa5\\x00\\xa3\\x00\\xa1\\x00\\x9f\\x00k\\x00j\\x00i\\x00h\\x009\\x008\\x00']\n",
      "Bad pipe message: %s [b\"6\\x00\\x88\\x00\\x87\\x00\\x86\\x00\\x85\\xc0\\x19\\x00\\xa7\\x00m\\x00:\\x00\\x89\\xc02\\xc0.\\xc0*\\xc0&\\xc0\\x0f\\xc0\\x05\\x00\\x9d\\x00=\\x005\\x00\\x84\\xc0/\\xc0+\\xc0'\\xc0#\\xc0\\x13\\xc0\\t\\x00\\xa4\\x00\"]\n"
     ]
    }
   ],
   "source": [
    "import netCDF4\n",
    "import numpy as np\n",
    "import matplotlib.pyplot as plt"
   ]
  },
  {
   "cell_type": "markdown",
   "metadata": {},
   "source": [
    "We specify the file that we want to read and its path"
   ]
  },
  {
   "cell_type": "code",
   "execution_count": 5,
   "metadata": {},
   "outputs": [],
   "source": [
    "file2read = '/cvmfs/netcdftest.usq/1976.monthly_rain.nc'"
   ]
  },
  {
   "cell_type": "markdown",
   "metadata": {},
   "source": [
    "Load the file into a variable \"nc\" using netCDF4 library"
   ]
  },
  {
   "cell_type": "code",
   "execution_count": 6,
   "metadata": {},
   "outputs": [],
   "source": [
    "nc = netCDF4.Dataset(file2read)"
   ]
  },
  {
   "cell_type": "markdown",
   "metadata": {},
   "source": [
    "Print all variable keys in the file"
   ]
  },
  {
   "cell_type": "code",
   "execution_count": 7,
   "metadata": {},
   "outputs": [
    {
     "name": "stdout",
     "output_type": "stream",
     "text": [
      "dict_keys(['lat', 'lon', 'time', 'monthly_rain', 'crs'])\n"
     ]
    }
   ],
   "source": [
    "print(nc.variables.keys())"
   ]
  },
  {
   "cell_type": "markdown",
   "metadata": {},
   "source": [
    "We print all dimensions (one per line)"
   ]
  },
  {
   "cell_type": "code",
   "execution_count": 8,
   "metadata": {},
   "outputs": [
    {
     "name": "stdout",
     "output_type": "stream",
     "text": [
      "('lat', <class 'netCDF4._netCDF4.Dimension'>: name = 'lat', size = 681)\n",
      "('lon', <class 'netCDF4._netCDF4.Dimension'>: name = 'lon', size = 841)\n",
      "('time', <class 'netCDF4._netCDF4.Dimension'> (unlimited): name = 'time', size = 12)\n"
     ]
    }
   ],
   "source": [
    "for dims in nc.dimensions.items():\n",
    "    print(dims)"
   ]
  },
  {
   "cell_type": "code",
   "execution_count": 9,
   "metadata": {},
   "outputs": [
    {
     "name": "stdout",
     "output_type": "stream",
     "text": [
      "dict_items([('lat', <class 'netCDF4._netCDF4.Variable'>\n",
      "float64 lat(lat)\n",
      "    long_name: latitude\n",
      "    standard_name: latitude\n",
      "    units: degrees_north\n",
      "    axis: Y\n",
      "unlimited dimensions: \n",
      "current shape = (681,)\n",
      "filling on, default _FillValue of 9.969209968386869e+36 used), ('lon', <class 'netCDF4._netCDF4.Variable'>\n",
      "float64 lon(lon)\n",
      "    long_name: longitude\n",
      "    standard_name: longitude\n",
      "    units: degrees_east\n",
      "    axis: X\n",
      "unlimited dimensions: \n",
      "current shape = (841,)\n",
      "filling on, default _FillValue of 9.969209968386869e+36 used), ('time', <class 'netCDF4._netCDF4.Variable'>\n",
      "float64 time(time)\n",
      "    calendar: standard\n",
      "    axis: T\n",
      "    units: days since 1976-01-01\n",
      "unlimited dimensions: time\n",
      "current shape = (12,)\n",
      "filling on, default _FillValue of 9.969209968386869e+36 used), ('monthly_rain', <class 'netCDF4._netCDF4.Variable'>\n",
      "int16 monthly_rain(time, lat, lon)\n",
      "    _FillValue: -32767\n",
      "    long_name: Monthly rainfall\n",
      "    units: mm\n",
      "    scale_factor: 0.1\n",
      "    add_offset: 3276.5\n",
      "    valid_min: -32765\n",
      "    valid_max: 32767\n",
      "unlimited dimensions: time\n",
      "current shape = (12, 681, 841)\n",
      "filling on), ('crs', <class 'netCDF4._netCDF4.Variable'>\n",
      "|S1 crs()\n",
      "    long_name: Coordinate reference system\n",
      "    grid_mapping_name: latitude_longitude\n",
      "    longitude_of_prime_meridian: 0.0\n",
      "    semi_major_axis: 6378137.0\n",
      "    inverse_flattening: 298.257223563\n",
      "unlimited dimensions: \n",
      "current shape = ()\n",
      "filling on, default _FillValue of \u0000 used)])\n"
     ]
    }
   ],
   "source": [
    "print(nc.variables.items())"
   ]
  },
  {
   "cell_type": "code",
   "execution_count": 10,
   "metadata": {},
   "outputs": [
    {
     "name": "stdout",
     "output_type": "stream",
     "text": [
      "____________________________________________\n",
      "long_name --latitude\n",
      "standard_name --latitude\n",
      "units --degrees_north\n",
      "axis --Y\n",
      "____________________________________________\n",
      "long_name --longitude\n",
      "standard_name --longitude\n",
      "units --degrees_east\n",
      "axis --X\n",
      "____________________________________________\n",
      "calendar --standard\n",
      "axis --T\n",
      "units --days since 1976-01-01\n",
      "____________________________________________\n",
      "_FillValue ---32767\n",
      "long_name --Monthly rainfall\n",
      "units --mm\n",
      "scale_factor --0.1\n",
      "add_offset --3276.5\n",
      "valid_min ---32765\n",
      "valid_max --32767\n",
      "____________________________________________\n",
      "long_name --Coordinate reference system\n",
      "grid_mapping_name --latitude_longitude\n",
      "longitude_of_prime_meridian --0.0\n",
      "semi_major_axis --6378137.0\n",
      "inverse_flattening --298.257223563\n"
     ]
    }
   ],
   "source": [
    "for name, variable in nc.variables.items():\n",
    "    print('____________________________________________')\n",
    "    for attrname in variable.ncattrs():\n",
    "        print(\"{} --{}\".format(attrname, getattr(variable, attrname)))"
   ]
  },
  {
   "cell_type": "code",
   "execution_count": 11,
   "metadata": {},
   "outputs": [],
   "source": [
    "lats = nc.variables['lat'][:]; lons = nc.variables['lon'][:]"
   ]
  },
  {
   "cell_type": "code",
   "execution_count": 12,
   "metadata": {},
   "outputs": [
    {
     "name": "stdout",
     "output_type": "stream",
     "text": [
      "[-44.   -43.95 -43.9  -43.85 -43.8  -43.75 -43.7  -43.65 -43.6  -43.55\n",
      " -43.5  -43.45 -43.4  -43.35 -43.3  -43.25 -43.2  -43.15 -43.1  -43.05\n",
      " -43.   -42.95 -42.9  -42.85 -42.8  -42.75 -42.7  -42.65 -42.6  -42.55\n",
      " -42.5  -42.45 -42.4  -42.35 -42.3  -42.25 -42.2  -42.15 -42.1  -42.05\n",
      " -42.   -41.95 -41.9  -41.85 -41.8  -41.75 -41.7  -41.65 -41.6  -41.55\n",
      " -41.5  -41.45 -41.4  -41.35 -41.3  -41.25 -41.2  -41.15 -41.1  -41.05\n",
      " -41.   -40.95 -40.9  -40.85 -40.8  -40.75 -40.7  -40.65 -40.6  -40.55\n",
      " -40.5  -40.45 -40.4  -40.35 -40.3  -40.25 -40.2  -40.15 -40.1  -40.05\n",
      " -40.   -39.95 -39.9  -39.85 -39.8  -39.75 -39.7  -39.65 -39.6  -39.55\n",
      " -39.5  -39.45 -39.4  -39.35 -39.3  -39.25 -39.2  -39.15 -39.1  -39.05\n",
      " -39.   -38.95 -38.9  -38.85 -38.8  -38.75 -38.7  -38.65 -38.6  -38.55\n",
      " -38.5  -38.45 -38.4  -38.35 -38.3  -38.25 -38.2  -38.15 -38.1  -38.05\n",
      " -38.   -37.95 -37.9  -37.85 -37.8  -37.75 -37.7  -37.65 -37.6  -37.55\n",
      " -37.5  -37.45 -37.4  -37.35 -37.3  -37.25 -37.2  -37.15 -37.1  -37.05\n",
      " -37.   -36.95 -36.9  -36.85 -36.8  -36.75 -36.7  -36.65 -36.6  -36.55\n",
      " -36.5  -36.45 -36.4  -36.35 -36.3  -36.25 -36.2  -36.15 -36.1  -36.05\n",
      " -36.   -35.95 -35.9  -35.85 -35.8  -35.75 -35.7  -35.65 -35.6  -35.55\n",
      " -35.5  -35.45 -35.4  -35.35 -35.3  -35.25 -35.2  -35.15 -35.1  -35.05\n",
      " -35.   -34.95 -34.9  -34.85 -34.8  -34.75 -34.7  -34.65 -34.6  -34.55\n",
      " -34.5  -34.45 -34.4  -34.35 -34.3  -34.25 -34.2  -34.15 -34.1  -34.05\n",
      " -34.   -33.95 -33.9  -33.85 -33.8  -33.75 -33.7  -33.65 -33.6  -33.55\n",
      " -33.5  -33.45 -33.4  -33.35 -33.3  -33.25 -33.2  -33.15 -33.1  -33.05\n",
      " -33.   -32.95 -32.9  -32.85 -32.8  -32.75 -32.7  -32.65 -32.6  -32.55\n",
      " -32.5  -32.45 -32.4  -32.35 -32.3  -32.25 -32.2  -32.15 -32.1  -32.05\n",
      " -32.   -31.95 -31.9  -31.85 -31.8  -31.75 -31.7  -31.65 -31.6  -31.55\n",
      " -31.5  -31.45 -31.4  -31.35 -31.3  -31.25 -31.2  -31.15 -31.1  -31.05\n",
      " -31.   -30.95 -30.9  -30.85 -30.8  -30.75 -30.7  -30.65 -30.6  -30.55\n",
      " -30.5  -30.45 -30.4  -30.35 -30.3  -30.25 -30.2  -30.15 -30.1  -30.05\n",
      " -30.   -29.95 -29.9  -29.85 -29.8  -29.75 -29.7  -29.65 -29.6  -29.55\n",
      " -29.5  -29.45 -29.4  -29.35 -29.3  -29.25 -29.2  -29.15 -29.1  -29.05\n",
      " -29.   -28.95 -28.9  -28.85 -28.8  -28.75 -28.7  -28.65 -28.6  -28.55\n",
      " -28.5  -28.45 -28.4  -28.35 -28.3  -28.25 -28.2  -28.15 -28.1  -28.05\n",
      " -28.   -27.95 -27.9  -27.85 -27.8  -27.75 -27.7  -27.65 -27.6  -27.55\n",
      " -27.5  -27.45 -27.4  -27.35 -27.3  -27.25 -27.2  -27.15 -27.1  -27.05\n",
      " -27.   -26.95 -26.9  -26.85 -26.8  -26.75 -26.7  -26.65 -26.6  -26.55\n",
      " -26.5  -26.45 -26.4  -26.35 -26.3  -26.25 -26.2  -26.15 -26.1  -26.05\n",
      " -26.   -25.95 -25.9  -25.85 -25.8  -25.75 -25.7  -25.65 -25.6  -25.55\n",
      " -25.5  -25.45 -25.4  -25.35 -25.3  -25.25 -25.2  -25.15 -25.1  -25.05\n",
      " -25.   -24.95 -24.9  -24.85 -24.8  -24.75 -24.7  -24.65 -24.6  -24.55\n",
      " -24.5  -24.45 -24.4  -24.35 -24.3  -24.25 -24.2  -24.15 -24.1  -24.05\n",
      " -24.   -23.95 -23.9  -23.85 -23.8  -23.75 -23.7  -23.65 -23.6  -23.55\n",
      " -23.5  -23.45 -23.4  -23.35 -23.3  -23.25 -23.2  -23.15 -23.1  -23.05\n",
      " -23.   -22.95 -22.9  -22.85 -22.8  -22.75 -22.7  -22.65 -22.6  -22.55\n",
      " -22.5  -22.45 -22.4  -22.35 -22.3  -22.25 -22.2  -22.15 -22.1  -22.05\n",
      " -22.   -21.95 -21.9  -21.85 -21.8  -21.75 -21.7  -21.65 -21.6  -21.55\n",
      " -21.5  -21.45 -21.4  -21.35 -21.3  -21.25 -21.2  -21.15 -21.1  -21.05\n",
      " -21.   -20.95 -20.9  -20.85 -20.8  -20.75 -20.7  -20.65 -20.6  -20.55\n",
      " -20.5  -20.45 -20.4  -20.35 -20.3  -20.25 -20.2  -20.15 -20.1  -20.05\n",
      " -20.   -19.95 -19.9  -19.85 -19.8  -19.75 -19.7  -19.65 -19.6  -19.55\n",
      " -19.5  -19.45 -19.4  -19.35 -19.3  -19.25 -19.2  -19.15 -19.1  -19.05\n",
      " -19.   -18.95 -18.9  -18.85 -18.8  -18.75 -18.7  -18.65 -18.6  -18.55\n",
      " -18.5  -18.45 -18.4  -18.35 -18.3  -18.25 -18.2  -18.15 -18.1  -18.05\n",
      " -18.   -17.95 -17.9  -17.85 -17.8  -17.75 -17.7  -17.65 -17.6  -17.55\n",
      " -17.5  -17.45 -17.4  -17.35 -17.3  -17.25 -17.2  -17.15 -17.1  -17.05\n",
      " -17.   -16.95 -16.9  -16.85 -16.8  -16.75 -16.7  -16.65 -16.6  -16.55\n",
      " -16.5  -16.45 -16.4  -16.35 -16.3  -16.25 -16.2  -16.15 -16.1  -16.05\n",
      " -16.   -15.95 -15.9  -15.85 -15.8  -15.75 -15.7  -15.65 -15.6  -15.55\n",
      " -15.5  -15.45 -15.4  -15.35 -15.3  -15.25 -15.2  -15.15 -15.1  -15.05\n",
      " -15.   -14.95 -14.9  -14.85 -14.8  -14.75 -14.7  -14.65 -14.6  -14.55\n",
      " -14.5  -14.45 -14.4  -14.35 -14.3  -14.25 -14.2  -14.15 -14.1  -14.05\n",
      " -14.   -13.95 -13.9  -13.85 -13.8  -13.75 -13.7  -13.65 -13.6  -13.55\n",
      " -13.5  -13.45 -13.4  -13.35 -13.3  -13.25 -13.2  -13.15 -13.1  -13.05\n",
      " -13.   -12.95 -12.9  -12.85 -12.8  -12.75 -12.7  -12.65 -12.6  -12.55\n",
      " -12.5  -12.45 -12.4  -12.35 -12.3  -12.25 -12.2  -12.15 -12.1  -12.05\n",
      " -12.   -11.95 -11.9  -11.85 -11.8  -11.75 -11.7  -11.65 -11.6  -11.55\n",
      " -11.5  -11.45 -11.4  -11.35 -11.3  -11.25 -11.2  -11.15 -11.1  -11.05\n",
      " -11.   -10.95 -10.9  -10.85 -10.8  -10.75 -10.7  -10.65 -10.6  -10.55\n",
      " -10.5  -10.45 -10.4  -10.35 -10.3  -10.25 -10.2  -10.15 -10.1  -10.05\n",
      " -10.  ]\n"
     ]
    }
   ],
   "source": [
    "print(lats)"
   ]
  },
  {
   "cell_type": "code",
   "execution_count": 13,
   "metadata": {},
   "outputs": [
    {
     "name": "stdout",
     "output_type": "stream",
     "text": [
      "[112.   112.05 112.1  112.15 112.2  112.25 112.3  112.35 112.4  112.45\n",
      " 112.5  112.55 112.6  112.65 112.7  112.75 112.8  112.85 112.9  112.95\n",
      " 113.   113.05 113.1  113.15 113.2  113.25 113.3  113.35 113.4  113.45\n",
      " 113.5  113.55 113.6  113.65 113.7  113.75 113.8  113.85 113.9  113.95\n",
      " 114.   114.05 114.1  114.15 114.2  114.25 114.3  114.35 114.4  114.45\n",
      " 114.5  114.55 114.6  114.65 114.7  114.75 114.8  114.85 114.9  114.95\n",
      " 115.   115.05 115.1  115.15 115.2  115.25 115.3  115.35 115.4  115.45\n",
      " 115.5  115.55 115.6  115.65 115.7  115.75 115.8  115.85 115.9  115.95\n",
      " 116.   116.05 116.1  116.15 116.2  116.25 116.3  116.35 116.4  116.45\n",
      " 116.5  116.55 116.6  116.65 116.7  116.75 116.8  116.85 116.9  116.95\n",
      " 117.   117.05 117.1  117.15 117.2  117.25 117.3  117.35 117.4  117.45\n",
      " 117.5  117.55 117.6  117.65 117.7  117.75 117.8  117.85 117.9  117.95\n",
      " 118.   118.05 118.1  118.15 118.2  118.25 118.3  118.35 118.4  118.45\n",
      " 118.5  118.55 118.6  118.65 118.7  118.75 118.8  118.85 118.9  118.95\n",
      " 119.   119.05 119.1  119.15 119.2  119.25 119.3  119.35 119.4  119.45\n",
      " 119.5  119.55 119.6  119.65 119.7  119.75 119.8  119.85 119.9  119.95\n",
      " 120.   120.05 120.1  120.15 120.2  120.25 120.3  120.35 120.4  120.45\n",
      " 120.5  120.55 120.6  120.65 120.7  120.75 120.8  120.85 120.9  120.95\n",
      " 121.   121.05 121.1  121.15 121.2  121.25 121.3  121.35 121.4  121.45\n",
      " 121.5  121.55 121.6  121.65 121.7  121.75 121.8  121.85 121.9  121.95\n",
      " 122.   122.05 122.1  122.15 122.2  122.25 122.3  122.35 122.4  122.45\n",
      " 122.5  122.55 122.6  122.65 122.7  122.75 122.8  122.85 122.9  122.95\n",
      " 123.   123.05 123.1  123.15 123.2  123.25 123.3  123.35 123.4  123.45\n",
      " 123.5  123.55 123.6  123.65 123.7  123.75 123.8  123.85 123.9  123.95\n",
      " 124.   124.05 124.1  124.15 124.2  124.25 124.3  124.35 124.4  124.45\n",
      " 124.5  124.55 124.6  124.65 124.7  124.75 124.8  124.85 124.9  124.95\n",
      " 125.   125.05 125.1  125.15 125.2  125.25 125.3  125.35 125.4  125.45\n",
      " 125.5  125.55 125.6  125.65 125.7  125.75 125.8  125.85 125.9  125.95\n",
      " 126.   126.05 126.1  126.15 126.2  126.25 126.3  126.35 126.4  126.45\n",
      " 126.5  126.55 126.6  126.65 126.7  126.75 126.8  126.85 126.9  126.95\n",
      " 127.   127.05 127.1  127.15 127.2  127.25 127.3  127.35 127.4  127.45\n",
      " 127.5  127.55 127.6  127.65 127.7  127.75 127.8  127.85 127.9  127.95\n",
      " 128.   128.05 128.1  128.15 128.2  128.25 128.3  128.35 128.4  128.45\n",
      " 128.5  128.55 128.6  128.65 128.7  128.75 128.8  128.85 128.9  128.95\n",
      " 129.   129.05 129.1  129.15 129.2  129.25 129.3  129.35 129.4  129.45\n",
      " 129.5  129.55 129.6  129.65 129.7  129.75 129.8  129.85 129.9  129.95\n",
      " 130.   130.05 130.1  130.15 130.2  130.25 130.3  130.35 130.4  130.45\n",
      " 130.5  130.55 130.6  130.65 130.7  130.75 130.8  130.85 130.9  130.95\n",
      " 131.   131.05 131.1  131.15 131.2  131.25 131.3  131.35 131.4  131.45\n",
      " 131.5  131.55 131.6  131.65 131.7  131.75 131.8  131.85 131.9  131.95\n",
      " 132.   132.05 132.1  132.15 132.2  132.25 132.3  132.35 132.4  132.45\n",
      " 132.5  132.55 132.6  132.65 132.7  132.75 132.8  132.85 132.9  132.95\n",
      " 133.   133.05 133.1  133.15 133.2  133.25 133.3  133.35 133.4  133.45\n",
      " 133.5  133.55 133.6  133.65 133.7  133.75 133.8  133.85 133.9  133.95\n",
      " 134.   134.05 134.1  134.15 134.2  134.25 134.3  134.35 134.4  134.45\n",
      " 134.5  134.55 134.6  134.65 134.7  134.75 134.8  134.85 134.9  134.95\n",
      " 135.   135.05 135.1  135.15 135.2  135.25 135.3  135.35 135.4  135.45\n",
      " 135.5  135.55 135.6  135.65 135.7  135.75 135.8  135.85 135.9  135.95\n",
      " 136.   136.05 136.1  136.15 136.2  136.25 136.3  136.35 136.4  136.45\n",
      " 136.5  136.55 136.6  136.65 136.7  136.75 136.8  136.85 136.9  136.95\n",
      " 137.   137.05 137.1  137.15 137.2  137.25 137.3  137.35 137.4  137.45\n",
      " 137.5  137.55 137.6  137.65 137.7  137.75 137.8  137.85 137.9  137.95\n",
      " 138.   138.05 138.1  138.15 138.2  138.25 138.3  138.35 138.4  138.45\n",
      " 138.5  138.55 138.6  138.65 138.7  138.75 138.8  138.85 138.9  138.95\n",
      " 139.   139.05 139.1  139.15 139.2  139.25 139.3  139.35 139.4  139.45\n",
      " 139.5  139.55 139.6  139.65 139.7  139.75 139.8  139.85 139.9  139.95\n",
      " 140.   140.05 140.1  140.15 140.2  140.25 140.3  140.35 140.4  140.45\n",
      " 140.5  140.55 140.6  140.65 140.7  140.75 140.8  140.85 140.9  140.95\n",
      " 141.   141.05 141.1  141.15 141.2  141.25 141.3  141.35 141.4  141.45\n",
      " 141.5  141.55 141.6  141.65 141.7  141.75 141.8  141.85 141.9  141.95\n",
      " 142.   142.05 142.1  142.15 142.2  142.25 142.3  142.35 142.4  142.45\n",
      " 142.5  142.55 142.6  142.65 142.7  142.75 142.8  142.85 142.9  142.95\n",
      " 143.   143.05 143.1  143.15 143.2  143.25 143.3  143.35 143.4  143.45\n",
      " 143.5  143.55 143.6  143.65 143.7  143.75 143.8  143.85 143.9  143.95\n",
      " 144.   144.05 144.1  144.15 144.2  144.25 144.3  144.35 144.4  144.45\n",
      " 144.5  144.55 144.6  144.65 144.7  144.75 144.8  144.85 144.9  144.95\n",
      " 145.   145.05 145.1  145.15 145.2  145.25 145.3  145.35 145.4  145.45\n",
      " 145.5  145.55 145.6  145.65 145.7  145.75 145.8  145.85 145.9  145.95\n",
      " 146.   146.05 146.1  146.15 146.2  146.25 146.3  146.35 146.4  146.45\n",
      " 146.5  146.55 146.6  146.65 146.7  146.75 146.8  146.85 146.9  146.95\n",
      " 147.   147.05 147.1  147.15 147.2  147.25 147.3  147.35 147.4  147.45\n",
      " 147.5  147.55 147.6  147.65 147.7  147.75 147.8  147.85 147.9  147.95\n",
      " 148.   148.05 148.1  148.15 148.2  148.25 148.3  148.35 148.4  148.45\n",
      " 148.5  148.55 148.6  148.65 148.7  148.75 148.8  148.85 148.9  148.95\n",
      " 149.   149.05 149.1  149.15 149.2  149.25 149.3  149.35 149.4  149.45\n",
      " 149.5  149.55 149.6  149.65 149.7  149.75 149.8  149.85 149.9  149.95\n",
      " 150.   150.05 150.1  150.15 150.2  150.25 150.3  150.35 150.4  150.45\n",
      " 150.5  150.55 150.6  150.65 150.7  150.75 150.8  150.85 150.9  150.95\n",
      " 151.   151.05 151.1  151.15 151.2  151.25 151.3  151.35 151.4  151.45\n",
      " 151.5  151.55 151.6  151.65 151.7  151.75 151.8  151.85 151.9  151.95\n",
      " 152.   152.05 152.1  152.15 152.2  152.25 152.3  152.35 152.4  152.45\n",
      " 152.5  152.55 152.6  152.65 152.7  152.75 152.8  152.85 152.9  152.95\n",
      " 153.   153.05 153.1  153.15 153.2  153.25 153.3  153.35 153.4  153.45\n",
      " 153.5  153.55 153.6  153.65 153.7  153.75 153.8  153.85 153.9  153.95\n",
      " 154.  ]\n"
     ]
    }
   ],
   "source": [
    "print(lons)"
   ]
  },
  {
   "cell_type": "code",
   "execution_count": 14,
   "metadata": {},
   "outputs": [],
   "source": [
    "latselect = np.logical_and(lats > -20, lats < -15)"
   ]
  },
  {
   "cell_type": "code",
   "execution_count": 15,
   "metadata": {},
   "outputs": [],
   "source": [
    "lonselect = np.logical_and(lons > 140, lons < 150)"
   ]
  },
  {
   "cell_type": "code",
   "execution_count": 16,
   "metadata": {},
   "outputs": [],
   "source": [
    "data = nc.variables['monthly_rain'][1, latselect, lonselect]"
   ]
  },
  {
   "cell_type": "markdown",
   "metadata": {},
   "source": [
    "Flip latitudes so they go south -> north"
   ]
  },
  {
   "cell_type": "code",
   "execution_count": 17,
   "metadata": {},
   "outputs": [
    {
     "data": {
      "image/png": "[encoded data removed]",
      "text/plain": [
       "<Figure size 432x288 with 1 Axes>"
      ]
     },
     "metadata": {
      "needs_background": "light"
     },
     "output_type": "display_data"
    }
   ],
   "source": [
    "plt.contourf(data[::-1])   \n",
    "plt.show()"
   ]
  }
 ],
 "metadata": {
  "kernelspec": {
   "display_name": "Python 3",
   "language": "python",
   "name": "python3"
  },
  "language_info": {
   "codemirror_mode": {
    "name": "ipython",
    "version": 3
   },
   "file_extension": ".py",
   "mimetype": "text/x-python",
   "name": "python",
   "nbconvert_exporter": "python",
   "pygments_lexer": "ipython3",
   "version": "3.6.9"
  }
 },
 "nbformat": 4,
 "nbformat_minor": 5
}
