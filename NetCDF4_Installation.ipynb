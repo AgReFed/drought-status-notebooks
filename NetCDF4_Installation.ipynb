{
 "cells": [
  {
   "cell_type": "markdown",
   "metadata": {},
   "source": [
    "# Installation of NetCDF4 for Python"
   ]
  },
  {
   "cell_type": "markdown",
   "metadata": {},
   "source": [
    "First we update and upgrade the local Ubuntu OS\n",
    "\n",
    "The first step is to clean the package repository, just in case."
   ]
  },
  {
   "cell_type": "code",
   "execution_count": 6,
   "metadata": {},
   "outputs": [
    {
     "name": "stdout",
     "output_type": "stream",
     "text": [
      "rm: cannot remove '/var/lib/apt/lists/lock': No such file or directory\n",
      "rm: cannot remove '/var/cache/apt/archives/lock': No such file or directory\n",
      "rm: cannot remove '/var/lib/dpkg/updates/*': No such file or directory\n"
     ]
    }
   ],
   "source": [
    "!sudo rm /var/lib/apt/lists/lock\n",
    "!sudo rm /var/cache/apt/archives/lock\n",
    "!sudo rm /var/lib/dpkg/updates/*"
   ]
  },
  {
   "cell_type": "markdown",
   "metadata": {},
   "source": [
    "Now we run the usual update and upgrade for the OS."
   ]
  },
  {
   "cell_type": "code",
   "execution_count": 7,
   "metadata": {},
   "outputs": [
    {
     "name": "stdout",
     "output_type": "stream",
     "text": [
      "Hit:1 http://au.archive.ubuntu.com/ubuntu bionic InRelease\n",
      "Hit:2 http://au.archive.ubuntu.com/ubuntu bionic-updates InRelease             \n",
      "Hit:3 http://au.archive.ubuntu.com/ubuntu bionic-backports InRelease           \n",
      "Hit:4 http://au.archive.ubuntu.com/ubuntu bionic-security InRelease\n",
      "Hit:5 http://ppa.launchpad.net/certbot/certbot/ubuntu bionic InRelease         \n",
      "Reading package lists... Done\n",
      "Reading package lists...\n",
      "Building dependency tree...\n",
      "Reading state information...\n",
      "Calculating upgrade...\n",
      "The following packages have been kept back:\n",
      "  linux-headers-generic linux-headers-virtual linux-image-virtual\n",
      "  linux-virtual ubuntu-advantage-tools\n",
      "0 to upgrade, 0 to newly install, 0 to remove and 5 not to upgrade.\n",
      "3 not fully installed or removed.\n",
      "After this operation, 0 B of additional disk space will be used.\n",
      "Setting up bind9-host (1:9.11.3+dfsg-1ubuntu1.17) ...\n",
      "Setting up dnsutils (1:9.11.3+dfsg-1ubuntu1.17) ...\n",
      "Setting up openssh-server (1:7.6p1-4ubuntu0.7) ...\n",
      "Processing triggers for systemd (237-3ubuntu10.53) ...\n",
      "Processing triggers for man-db (2.8.3-2ubuntu0.1) ...\n",
      "Processing triggers for ca-certificates (20211016~18.04.1) ...\n",
      "Updating certificates in /etc/ssl/certs...\n",
      "0 added, 0 removed; done.\n",
      "Running hooks in /etc/ca-certificates/update.d...\n",
      "done.\n",
      "Processing triggers for mime-support (3.60ubuntu1) ...\n",
      "Processing triggers for ureadahead (0.100.0-21) ...\n",
      "Processing triggers for install-info (6.5.0.dfsg.1-2) ...\n",
      "Processing triggers for plymouth-theme-ubuntu-text (0.9.3-1ubuntu7.18.04.2) ...\n",
      "update-initramfs: deferring update (trigger activated)\n",
      "Processing triggers for initramfs-tools (0.130ubuntu3.13) ...\n",
      "update-initramfs: Generating /boot/initrd.img-4.15.0-121-generic\n",
      "Processing triggers for libc-bin (2.27-3ubuntu1.6) ...\n",
      "W: APT had planned for dpkg to do more than it reported back (6 vs 10).\n",
      "   Affected packages: openssh-server:amd64\n"
     ]
    }
   ],
   "source": [
    "!sudo apt-get update\n",
    "!sudo DEBIAN_FRONTEND=noninteractive apt-get -yq upgrade"
   ]
  },
  {
   "cell_type": "markdown",
   "metadata": {},
   "source": [
    "Next we install all dependencies"
   ]
  },
  {
   "cell_type": "code",
   "execution_count": 8,
   "metadata": {},
   "outputs": [
    {
     "name": "stdout",
     "output_type": "stream",
     "text": [
      "Reading package lists... Done\n",
      "Building dependency tree       \n",
      "Reading state information... Done\n",
      "The following additional packages will be installed:\n",
      "  hdf5-helpers libaec-dev libcurl4-gnutls-dev libhdf5-cpp-100 libhdf5-dev\n",
      "  libjpeg-dev libjpeg-turbo8-dev libjpeg8-dev libnetcdf13 pkg-config\n",
      "  zlib1g-dev\n",
      "Suggested packages:\n",
      "  libcurl4-doc libgnutls28-dev libidn11-dev libkrb5-dev libldap2-dev\n",
      "  librtmp-dev libssh2-1-dev libhdf5-doc netcdf-bin netcdf-doc\n",
      "The following NEW packages will be installed:\n",
      "  hdf5-helpers hdf5-tools libaec-dev libcurl4-gnutls-dev libhdf5-cpp-100\n",
      "  libhdf5-dev libjpeg-dev libjpeg-turbo8-dev libjpeg8-dev libnetcdf-dev\n",
      "  libnetcdf13 pkg-config zlib1g-dev\n",
      "0 to upgrade, 13 to newly install, 0 to remove and 5 not to upgrade.\n",
      "Need to get 4,104 kB of archives.\n",
      "After this operation, 18.9 MB of additional disk space will be used.\n",
      "Get:1 http://au.archive.ubuntu.com/ubuntu bionic/universe amd64 hdf5-helpers amd64 1.10.0-patch1+docs-4 [12.3 kB]\n",
      "Get:2 http://au.archive.ubuntu.com/ubuntu bionic/universe amd64 hdf5-tools amd64 1.10.0-patch1+docs-4 [390 kB]\n",
      "Get:3 http://au.archive.ubuntu.com/ubuntu bionic-updates/main amd64 libcurl4-gnutls-dev amd64 7.58.0-2ubuntu3.19 [301 kB]\n",
      "Get:4 http://au.archive.ubuntu.com/ubuntu bionic/universe amd64 libhdf5-cpp-100 amd64 1.10.0-patch1+docs-4 [104 kB]\n",
      "Get:5 http://au.archive.ubuntu.com/ubuntu bionic-updates/main amd64 zlib1g-dev amd64 1:1.2.11.dfsg-0ubuntu2.1 [176 kB]\n",
      "Get:6 http://au.archive.ubuntu.com/ubuntu bionic-updates/main amd64 libjpeg-turbo8-dev amd64 1.5.2-0ubuntu5.18.04.4 [225 kB]\n",
      "Get:7 http://au.archive.ubuntu.com/ubuntu bionic/main amd64 libjpeg8-dev amd64 8c-2ubuntu8 [1,552 B]\n",
      "Get:8 http://au.archive.ubuntu.com/ubuntu bionic/main amd64 libjpeg-dev amd64 8c-2ubuntu8 [1,546 B]\n",
      "Get:9 http://au.archive.ubuntu.com/ubuntu bionic/universe amd64 libaec-dev amd64 0.3.2-2 [16.4 kB]\n",
      "Get:10 http://au.archive.ubuntu.com/ubuntu bionic/universe amd64 libhdf5-dev amd64 1.10.0-patch1+docs-4 [2,461 kB]\n",
      "Get:11 http://au.archive.ubuntu.com/ubuntu bionic/universe amd64 libnetcdf13 amd64 1:4.6.0-2build1 [333 kB]\n",
      "Get:12 http://au.archive.ubuntu.com/ubuntu bionic/universe amd64 libnetcdf-dev amd64 1:4.6.0-2build1 [37.6 kB]\n",
      "Get:13 http://au.archive.ubuntu.com/ubuntu bionic/main amd64 pkg-config amd64 0.29.1-0ubuntu2 [45.0 kB]\n",
      "Fetched 4,104 kB in 0s (11.6 MB/s)      \n",
      "Selecting previously unselected package hdf5-helpers.\n",
      "(Reading database ... 118890 files and directories currently installed.)\n",
      "Preparing to unpack .../00-hdf5-helpers_1.10.0-patch1+docs-4_amd64.deb ...\n",
      "Unpacking hdf5-helpers (1.10.0-patch1+docs-4) ...\n",
      "Selecting previously unselected package hdf5-tools.\n",
      "Preparing to unpack .../01-hdf5-tools_1.10.0-patch1+docs-4_amd64.deb ...\n",
      "Unpacking hdf5-tools (1.10.0-patch1+docs-4) ...\n",
      "Selecting previously unselected package libcurl4-gnutls-dev:amd64.\n",
      "Preparing to unpack .../02-libcurl4-gnutls-dev_7.58.0-2ubuntu3.19_amd64.deb ...\n",
      "Unpacking libcurl4-gnutls-dev:amd64 (7.58.0-2ubuntu3.19) ...\n",
      "Selecting previously unselected package libhdf5-cpp-100:amd64.\n",
      "Preparing to unpack .../03-libhdf5-cpp-100_1.10.0-patch1+docs-4_amd64.deb ...\n",
      "Unpacking libhdf5-cpp-100:amd64 (1.10.0-patch1+docs-4) ...\n",
      "Selecting previously unselected package zlib1g-dev:amd64.\n",
      "Preparing to unpack .../04-zlib1g-dev_1%3a1.2.11.dfsg-0ubuntu2.1_amd64.deb ...\n",
      "Unpacking zlib1g-dev:amd64 (1:1.2.11.dfsg-0ubuntu2.1) ...\n",
      "Selecting previously unselected package libjpeg-turbo8-dev:amd64.\n",
      "Preparing to unpack .../05-libjpeg-turbo8-dev_1.5.2-0ubuntu5.18.04.4_amd64.deb ...\n",
      "Unpacking libjpeg-turbo8-dev:amd64 (1.5.2-0ubuntu5.18.04.4) ...\n",
      "Selecting previously unselected package libjpeg8-dev:amd64.\n",
      "Preparing to unpack .../06-libjpeg8-dev_8c-2ubuntu8_amd64.deb ...\n",
      "Unpacking libjpeg8-dev:amd64 (8c-2ubuntu8) ...\n",
      "Selecting previously unselected package libjpeg-dev:amd64.\n",
      "Preparing to unpack .../07-libjpeg-dev_8c-2ubuntu8_amd64.deb ...\n",
      "Unpacking libjpeg-dev:amd64 (8c-2ubuntu8) ...\n",
      "Selecting previously unselected package libaec-dev:amd64.\n",
      "Preparing to unpack .../08-libaec-dev_0.3.2-2_amd64.deb ...\n",
      "Unpacking libaec-dev:amd64 (0.3.2-2) ...\n",
      "Selecting previously unselected package libhdf5-dev.\n",
      "Preparing to unpack .../09-libhdf5-dev_1.10.0-patch1+docs-4_amd64.deb ...\n",
      "Unpacking libhdf5-dev (1.10.0-patch1+docs-4) ...\n",
      "Selecting previously unselected package libnetcdf13:amd64.\n",
      "Preparing to unpack .../10-libnetcdf13_1%3a4.6.0-2build1_amd64.deb ...\n",
      "Unpacking libnetcdf13:amd64 (1:4.6.0-2build1) ...\n",
      "Selecting previously unselected package libnetcdf-dev.\n",
      "Preparing to unpack .../11-libnetcdf-dev_1%3a4.6.0-2build1_amd64.deb ...\n",
      "Unpacking libnetcdf-dev (1:4.6.0-2build1) ...\n",
      "Selecting previously unselected package pkg-config.\n",
      "Preparing to unpack .../12-pkg-config_0.29.1-0ubuntu2_amd64.deb ...\n",
      "Unpacking pkg-config (0.29.1-0ubuntu2) ...\n",
      "Setting up libhdf5-cpp-100:amd64 (1.10.0-patch1+docs-4) ...\n",
      "Setting up libaec-dev:amd64 (0.3.2-2) ...\n",
      "Setting up hdf5-tools (1.10.0-patch1+docs-4) ...\n",
      "Setting up pkg-config (0.29.1-0ubuntu2) ...\n",
      "Setting up libjpeg-turbo8-dev:amd64 (1.5.2-0ubuntu5.18.04.4) ...\n",
      "Setting up libjpeg8-dev:amd64 (8c-2ubuntu8) ...\n",
      "Setting up libjpeg-dev:amd64 (8c-2ubuntu8) ...\n",
      "Setting up libnetcdf13:amd64 (1:4.6.0-2build1) ...\n",
      "Setting up libcurl4-gnutls-dev:amd64 (7.58.0-2ubuntu3.19) ...\n",
      "Setting up hdf5-helpers (1.10.0-patch1+docs-4) ...\n",
      "Setting up zlib1g-dev:amd64 (1:1.2.11.dfsg-0ubuntu2.1) ...\n",
      "Setting up libhdf5-dev (1.10.0-patch1+docs-4) ...\n",
      "update-alternatives: using /usr/lib/x86_64-linux-gnu/pkgconfig/hdf5-serial.pc to provide /usr/lib/x86_64-linux-gnu/pkgconfig/hdf5.pc (hdf5.pc) in auto mode\n",
      "Setting up libnetcdf-dev (1:4.6.0-2build1) ...\n",
      "Processing triggers for man-db (2.8.3-2ubuntu0.1) ...\n",
      "Processing triggers for libc-bin (2.27-3ubuntu1.6) ...\n",
      "\u001b[33mThe directory '/homevol/usqdm1/.cache/pip/http' or its parent directory is not owned by the current user and the cache has been disabled. Please check the permissions and owner of that directory. If executing pip with sudo, you may want sudo's -H flag.\u001b[0m\n",
      "\u001b[33mThe directory '/homevol/usqdm1/.cache/pip' or its parent directory is not owned by the current user and caching wheels has been disabled. check the permissions and owner of that directory. If executing pip with sudo, you may want sudo's -H flag.\u001b[0m\n",
      "Requirement already up-to-date: setuptools in /usr/local/lib/python3.6/dist-packages\n",
      "\u001b[33mThe directory '/homevol/usqdm1/.cache/pip/http' or its parent directory is not owned by the current user and the cache has been disabled. Please check the permissions and owner of that directory. If executing pip with sudo, you may want sudo's -H flag.\u001b[0m\n",
      "\u001b[33mThe directory '/homevol/usqdm1/.cache/pip' or its parent directory is not owned by the current user and caching wheels has been disabled. check the permissions and owner of that directory. If executing pip with sudo, you may want sudo's -H flag.\u001b[0m\n",
      "Requirement already up-to-date: numpy in /usr/local/lib/python3.6/dist-packages\n",
      "/usr/lib/python3/dist-packages/pip/commands/install.py:212: UserWarning: Disabling all use of wheels due to the use of --build-options / --global-options / --install-options.\n",
      "  cmdoptions.check_install_build_global(options)\n",
      "\u001b[33mThe directory '/homevol/usqdm1/.cache/pip/http' or its parent directory is not owned by the current user and the cache has been disabled. Please check the permissions and owner of that directory. If executing pip with sudo, you may want sudo's -H flag.\u001b[0m\n",
      "\u001b[33mThe directory '/homevol/usqdm1/.cache/pip' or its parent directory is not owned by the current user and caching wheels has been disabled. check the permissions and owner of that directory. If executing pip with sudo, you may want sudo's -H flag.\u001b[0m\n",
      "Requirement already satisfied: Cython in /usr/local/lib/python3.6/dist-packages\n",
      "\u001b[33mThe directory '/homevol/usqdm1/.cache/pip/http' or its parent directory is not owned by the current user and the cache has been disabled. Please check the permissions and owner of that directory. If executing pip with sudo, you may want sudo's -H flag.\u001b[0m\n",
      "\u001b[33mThe directory '/homevol/usqdm1/.cache/pip' or its parent directory is not owned by the current user and caching wheels has been disabled. check the permissions and owner of that directory. If executing pip with sudo, you may want sudo's -H flag.\u001b[0m\n",
      "Requirement already satisfied: cftime in /usr/local/lib/python3.6/dist-packages\n",
      "Requirement already satisfied: numpy>1.13.3 in /usr/local/lib/python3.6/dist-packages (from cftime)\n"
     ]
    },
    {
     "name": "stdout",
     "output_type": "stream",
     "text": [
      "\u001b[33mThe directory '/homevol/usqdm1/.cache/pip/http' or its parent directory is not owned by the current user and the cache has been disabled. Please check the permissions and owner of that directory. If executing pip with sudo, you may want sudo's -H flag.\u001b[0m\n",
      "\u001b[33mThe directory '/homevol/usqdm1/.cache/pip' or its parent directory is not owned by the current user and caching wheels has been disabled. check the permissions and owner of that directory. If executing pip with sudo, you may want sudo's -H flag.\u001b[0m\n",
      "Requirement already satisfied: h5py in /usr/local/lib/python3.6/dist-packages\n",
      "Requirement already satisfied: numpy>=1.12; python_version == \"3.6\" in /usr/local/lib/python3.6/dist-packages (from h5py)\n",
      "Requirement already satisfied: cached-property; python_version < \"3.8\" in /usr/local/lib/python3.6/dist-packages (from h5py)\n"
     ]
    }
   ],
   "source": [
    "!sudo apt-get install hdf5-tools libnetcdf-dev -y\n",
    "!sudo pip3 install -U setuptools\n",
    "!sudo pip3 install -U numpy\n",
    "!sudo pip3 install Cython --install-option=\"--no-cython-compile\"\n",
    "!sudo pip3 install cftime\n",
    "!sudo pip3 install h5py "
   ]
  },
  {
   "cell_type": "markdown",
   "metadata": {},
   "source": [
    "Finally, install NetCDF4 for Python"
   ]
  },
  {
   "cell_type": "code",
   "execution_count": 9,
   "metadata": {},
   "outputs": [
    {
     "name": "stdout",
     "output_type": "stream",
     "text": [
      "\u001b[33mThe directory '/homevol/usqdm1/.cache/pip/http' or its parent directory is not owned by the current user and the cache has been disabled. Please check the permissions and owner of that directory. If executing pip with sudo, you may want sudo's -H flag.\u001b[0m\n",
      "\u001b[33mThe directory '/homevol/usqdm1/.cache/pip' or its parent directory is not owned by the current user and caching wheels has been disabled. check the permissions and owner of that directory. If executing pip with sudo, you may want sudo's -H flag.\u001b[0m\n",
      "Collecting netCDF4\n",
      "  Downloading https://files.pythonhosted.org/packages/f9/94/f23af3c2c7b6e1250898ca9e3408821702889d35f5cfb05f427354df728f/netCDF4-1.6.0.tar.gz (774kB)\n",
      "\u001b[K    100% |████████████████████████████████| 778kB 958kB/s eta 0:00:01\n",
      "\u001b[?25hRequirement already satisfied: numpy>=1.9 in /usr/local/lib/python3.6/dist-packages (from netCDF4)\n",
      "Requirement already satisfied: cftime in /usr/local/lib/python3.6/dist-packages (from netCDF4)\n",
      "Installing collected packages: netCDF4\n",
      "  Running setup.py install for netCDF4 ... \u001b[?25ldone\n",
      "\u001b[?25hSuccessfully installed netCDF4-1.6.0\n"
     ]
    }
   ],
   "source": [
    "!sudo pip3 install netCDF4"
   ]
  },
  {
   "cell_type": "markdown",
   "metadata": {},
   "source": [
    "As a last step, we try to import the NetCDF4 library to ensure it works, and we check its version."
   ]
  },
  {
   "cell_type": "code",
   "execution_count": 17,
   "metadata": {},
   "outputs": [
    {
     "data": {
      "text/plain": [
       "'3.6.9 (default, Mar 15 2022, 13:55:28) \\n[GCC 8.4.0]'"
      ]
     },
     "execution_count": 17,
     "metadata": {},
     "output_type": "execute_result"
    }
   ],
   "source": [
    "import netCDF4\n",
    "netCDF4.sys.version"
   ]
  },
  {
   "cell_type": "code",
   "execution_count": null,
   "metadata": {},
   "outputs": [],
   "source": []
  }
 ],
 "metadata": {
  "kernelspec": {
   "display_name": "Python 3",
   "language": "python",
   "name": "python3"
  },
  "language_info": {
   "codemirror_mode": {
    "name": "ipython",
    "version": 3
   },
   "file_extension": ".py",
   "mimetype": "text/x-python",
   "name": "python",
   "nbconvert_exporter": "python",
   "pygments_lexer": "ipython3",
   "version": "3.6.9"
  }
 },
 "nbformat": 4,
 "nbformat_minor": 2
}
